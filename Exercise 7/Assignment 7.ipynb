{
 "cells": [
  {
   "cell_type": "markdown",
   "id": "99403be1-7ce1-475a-88ee-baf5d0fff149",
   "metadata": {},
   "source": [
    "<h2><center>Applied Machine Learning - Assignment 7</center></h2>\n",
    "<h4><center>Lorenzo Cirac Monteagduo</center></h4>"
   ]
  },
  {
   "cell_type": "code",
   "execution_count": 1,
   "id": "32667653-5f29-4b60-84e5-dbff7970b783",
   "metadata": {},
   "outputs": [],
   "source": [
    "import pandas as pd\n",
    "import numpy as np"
   ]
  },
  {
   "cell_type": "markdown",
   "id": "3b48fd83-0b9b-4c06-93b3-63b7b49b0255",
   "metadata": {},
   "source": [
    "<h3>Classification Datasets</h3>\n",
    "<p>You can use any of the datasets (or both)</p>\n",
    "<ul>\n",
    "    <li>Iris dataset D_1: Target attribute classes: Iris Setosa, Iris Versicolour, Iris Virginica</li>\n",
    "    <li>Wine Quality D_2 (use winequality-red.csv)</li>\n",
    "</ul>\n",
    "<p>Note: D_2 can also be used for a regression problem.</p>\n",
    "<p>You are required to pre-process the given datasets.</p>"
   ]
  },
  {
   "cell_type": "markdown",
   "id": "182c4b5c-9330-4473-902b-3c86ae7dc73c",
   "metadata": {},
   "source": [
    "<h4>$D_1$ Iris Dataset</h4>"
   ]
  },
  {
   "cell_type": "code",
   "execution_count": 2,
   "id": "fb6fbca7-394e-4d17-88e2-6fc1c4c33dc4",
   "metadata": {},
   "outputs": [],
   "source": [
    "D_1 = pd.read_csv('res/iris.data', header = None)"
   ]
  },
  {
   "cell_type": "markdown",
   "id": "3c33b4cb-91c0-4cc9-86f0-07e026f2ebce",
   "metadata": {},
   "source": [
    "<p>Since the CSV file lacks column headers, we need to add them manually using the information provided on the website.</p>"
   ]
  },
  {
   "cell_type": "code",
   "execution_count": 3,
   "id": "b6bd7521-3663-4850-a430-13479d96f233",
   "metadata": {},
   "outputs": [],
   "source": [
    "D_1.columns = ['sepal length', 'sepal width', 'petal length', 'petal width', 'class']"
   ]
  },
  {
   "cell_type": "markdown",
   "id": "dc6c91f7-0030-4cf1-b076-4d47a6f3e8c6",
   "metadata": {},
   "source": [
    "<p>To use the data for classification, we need to convert the class names from strings to integer values.</p>"
   ]
  },
  {
   "cell_type": "code",
   "execution_count": 4,
   "id": "8804c256-f82a-4618-848e-0b7cd4875463",
   "metadata": {},
   "outputs": [],
   "source": [
    "class_map = {'Iris-setosa': 0, 'Iris-versicolor': 1, 'Iris-virginica': 2}\n",
    "D_1['class'] = D_1['class'].map(class_map)"
   ]
  },
  {
   "cell_type": "markdown",
   "id": "a2cd3db6-ced6-4e96-b13b-55b52d68892a",
   "metadata": {},
   "source": [
    "<h4>$D_2$ Wine Quality</h4>"
   ]
  },
  {
   "cell_type": "code",
   "execution_count": 5,
   "id": "c55fb54d-211e-44d5-b0c1-abe227d701aa",
   "metadata": {},
   "outputs": [],
   "source": [
    "D_2 = pd.read_csv('res/winequality-red.csv', sep = ';').astype(float)"
   ]
  },
  {
   "cell_type": "markdown",
   "id": "9fcbfa23-547d-412c-a17c-2b803dc91603",
   "metadata": {},
   "source": [
    "<h3>Question 1 - Implement K-Nearest Neighbor (KNN)</h3>\n",
    "<p>Your task is to implement the KNN algorithm. To implement KNN, you have to:</p>\n",
    "<ul>\n",
    "    <li>Split data into a train and test split (70% and 30% respectively).</li>\n",
    "    <li>Implement a similarity (or a distance) measure. To begin with, you can implement the\n",
    "Euclidean Distance.</li>\n",
    "    <li>Implement a function that returns the top K Nearest Neighbors for a given query (data\n",
    "point).</li>\n",
    "    <li>Provide the prediction for a given query (for a classification task, you can use majority\n",
    "voting; for regression, you can use the mean).</li>\n",
    "    <li>Measure the quality of your prediction. [Hint: Choose a quality criterion according to the\n",
    "task you are solving, i.e., a regression or classification task. Defend your choice].\n",
    "</li>\n",
    "</ul>"
   ]
  },
  {
   "cell_type": "markdown",
   "id": "67c0b9df-0530-4d19-ae52-9652b46cc230",
   "metadata": {},
   "source": [
    "<h4>Solution:</h4>"
   ]
  },
  {
   "cell_type": "markdown",
   "id": "28e40eae-b8d0-4c3b-9ae0-77a955175019",
   "metadata": {},
   "source": [
    "<p>\n",
    "In addition to splitting the data into training and testing sets, we will normalize it to ensure all features contribute equally to distance calculations. This prevents features with larger scales from dominating and biasing the results.</p>"
   ]
  },
  {
   "cell_type": "code",
   "execution_count": 6,
   "id": "31093e6a-7204-4d14-aadd-da17901f7b1c",
   "metadata": {},
   "outputs": [],
   "source": [
    "def normalize(x):\n",
    "    return (x - np.min(x, axis = 0)) / (np.max(x, axis=0) - np.min(x, axis = 0))"
   ]
  },
  {
   "cell_type": "markdown",
   "id": "f5d23cc6-2ea5-4d40-9a43-d117f13c4013",
   "metadata": {},
   "source": [
    "<h4>Task 1: $D_1$ train and test splitting</h4>"
   ]
  },
  {
   "cell_type": "code",
   "execution_count": 7,
   "id": "aaa5b4ae-2cfe-4650-8d49-d8e7cea866ba",
   "metadata": {},
   "outputs": [],
   "source": [
    "D_1 = D_1.sample(frac = 1)"
   ]
  },
  {
   "cell_type": "code",
   "execution_count": 8,
   "id": "8481ec26-46db-465a-9ac6-651b718bd505",
   "metadata": {},
   "outputs": [],
   "source": [
    "D1_X = D_1[['sepal length', 'sepal width', 'petal length', 'petal width']].to_numpy()\n",
    "D1_Y = D_1['class'].to_numpy()"
   ]
  },
  {
   "cell_type": "code",
   "execution_count": 9,
   "id": "bc22c4e2-df9a-4f95-8bc6-7dc359739e9d",
   "metadata": {},
   "outputs": [],
   "source": [
    "D1_X = normalize(D1_X)"
   ]
  },
  {
   "cell_type": "code",
   "execution_count": 10,
   "id": "b85a2d44-b7b4-4d1c-b95f-9557e80d569f",
   "metadata": {},
   "outputs": [],
   "source": [
    "partition = round(len(D1_Y) * 0.7)\n",
    "\n",
    "D1_Xtrain, D1_Ytrain = D1_X[:partition], D1_Y[:partition]\n",
    "D1_Xtest, D1_Ytest = D1_X[partition:], D1_Y[partition:]"
   ]
  },
  {
   "cell_type": "markdown",
   "id": "4a1ea4fe-98cd-4823-b46e-8cf99b371fcd",
   "metadata": {},
   "source": [
    "<h4>Task 1: $D_2$ train and test splitting</h4>"
   ]
  },
  {
   "cell_type": "code",
   "execution_count": 11,
   "id": "84855c1c-cac6-437f-b272-f7c190a00ab4",
   "metadata": {},
   "outputs": [],
   "source": [
    "D_2 = D_2.sample(frac = 1)"
   ]
  },
  {
   "cell_type": "code",
   "execution_count": 12,
   "id": "531d0d6b-92a2-43e2-bc83-9a7d20297d25",
   "metadata": {},
   "outputs": [],
   "source": [
    "D2_Y = D_2['quality'].to_numpy()\n",
    "D2_X = D_2.drop('quality', axis = 1).to_numpy()"
   ]
  },
  {
   "cell_type": "code",
   "execution_count": 13,
   "id": "9e0e2d4a-2458-4ee5-ac25-3a24f04c7c93",
   "metadata": {},
   "outputs": [],
   "source": [
    "D2_X = normalize(D2_X)"
   ]
  },
  {
   "cell_type": "code",
   "execution_count": 14,
   "id": "b8d0a312-b04e-4fc6-857d-37bfe4873b8f",
   "metadata": {},
   "outputs": [],
   "source": [
    "partition = round(len(D2_Y) * 0.7)\n",
    "\n",
    "D2_Xtrain, D2_Ytrain = D2_X[:partition], D2_Y[:partition]\n",
    "D2_Xtest, D2_Ytest = D2_X[partition:], D2_Y[partition:]"
   ]
  },
  {
   "cell_type": "markdown",
   "id": "57c18995-6c0f-4112-854a-b165bd9f8014",
   "metadata": {},
   "source": [
    "<h4>Task 2: Euclidian Distance</h4>"
   ]
  },
  {
   "cell_type": "code",
   "execution_count": 15,
   "id": "157d0a1c-6c9a-4f4e-875f-e53ab6ea095e",
   "metadata": {},
   "outputs": [],
   "source": [
    "def euclidian_distance(p1, p2):\n",
    "    return np.sqrt(np.sum((p1 - p2) ** 2))"
   ]
  },
  {
   "cell_type": "markdown",
   "id": "6b441093-05e8-410a-a889-8d30088104f5",
   "metadata": {},
   "source": [
    "<h4>Task 3: Top K Nearest Neighbours</h4>\n",
    "<p>\n",
    "The get_k_nearest_neighbors function calculates the distances from the given data point to all training data points, sorts them, and returns the k nearest neighbors.</p>"
   ]
  },
  {
   "cell_type": "code",
   "execution_count": 16,
   "id": "db021e38-e3bb-4bb0-9311-70df855b5856",
   "metadata": {},
   "outputs": [],
   "source": [
    "def get_k_nearest_neighbors(Xtrain, Ytrain, data_point, k):\n",
    "    distances = [(euclidian_distance(data_point, x), y) for x, y in zip(Xtrain, Ytrain)]\n",
    "    distances.sort(key = lambda x: x[0])\n",
    "    return distances[:k]"
   ]
  },
  {
   "cell_type": "markdown",
   "id": "4b5e3758-45c4-44c0-a1a9-a38123883744",
   "metadata": {},
   "source": [
    "<h4>Task 4: Classification with Majority Voting & Regression Prediction</h4>"
   ]
  },
  {
   "cell_type": "code",
   "execution_count": 17,
   "id": "5ee42c44-b2f6-442e-a61c-ac2e6a3f49da",
   "metadata": {},
   "outputs": [],
   "source": [
    "from collections import Counter\n",
    "\n",
    "def classify_majority_voting(Xtrain, Ytrain, data_point, k):\n",
    "    neighbors = get_k_nearest_neighbors(Xtrain, Ytrain, data_point, k)\n",
    "    neighbor_target_values = [y for _, y in neighbors]\n",
    "    return Counter(neighbor_target_values).most_common(1)[0][0]"
   ]
  },
  {
   "cell_type": "code",
   "execution_count": 18,
   "id": "1ae938a3-d001-46c1-bee4-01a0ac9ce6bb",
   "metadata": {},
   "outputs": [],
   "source": [
    "def predict_regression(Xtrain, Ytrain, data_point, k):\n",
    "    neighbors = get_k_nearest_neighbors(Xtrain, Ytrain, data_point, k)\n",
    "    neighbor_target_values = [y for _, y in neighbors]\n",
    "    return sum(neighbor_target_values) / len(neighbor_target_values)"
   ]
  },
  {
   "cell_type": "markdown",
   "id": "c8bf7fc1-183c-4f12-87da-7aea6017a3ea",
   "metadata": {},
   "source": [
    "<h4>Task 5: Prediction Quality Measurement</h4>"
   ]
  },
  {
   "cell_type": "markdown",
   "id": "875f687d-44f7-44f5-b8a4-97ae0f444193",
   "metadata": {},
   "source": [
    "<p>\n",
    "To evaluate classification performance, we will use accuracy, while for regression, we will use RMSE (Root Mean Squared Error).</p>"
   ]
  },
  {
   "cell_type": "code",
   "execution_count": 19,
   "id": "5f30b38c-a46c-4df4-94c7-4000950dca35",
   "metadata": {},
   "outputs": [],
   "source": [
    "def accuracy(Y_true, Y_prediction):\n",
    "    correct = sum (t == p for t, p in zip(Y_true, Y_prediction))\n",
    "    accuracy = (correct / len(Y_true)) * 100\n",
    "    return accuracy"
   ]
  },
  {
   "cell_type": "code",
   "execution_count": 20,
   "id": "e3f9094e-ad32-4554-a2a2-d2c9f28161c2",
   "metadata": {},
   "outputs": [],
   "source": [
    "def rmse(Y_true, Y_prediction):\n",
    "    rmse = np.sqrt(np.mean((Y_true - Y_prediction) ** 2))\n",
    "    return rmse"
   ]
  },
  {
   "cell_type": "markdown",
   "id": "ecfb353a-ae4b-455d-8c59-5917f697c5f5",
   "metadata": {},
   "source": [
    "<h4>Task 5: Classification Results</h4>"
   ]
  },
  {
   "cell_type": "code",
   "execution_count": 21,
   "id": "0c2b3ea9-0b2f-40d7-a16c-4141faa18ea5",
   "metadata": {},
   "outputs": [
    {
     "name": "stdout",
     "output_type": "stream",
     "text": [
      "Classification Accuracy: 93.33%\n"
     ]
    }
   ],
   "source": [
    "k = 5\n",
    "\n",
    "D1_Yprediction = [classify_majority_voting(D1_Xtrain, D1_Ytrain, test_point, k) for test_point in D1_Xtest]\n",
    "result_accuracy = accuracy(D1_Ytest, D1_Yprediction)\n",
    "print(f'Classification Accuracy: {result_accuracy:.2f}%')"
   ]
  },
  {
   "cell_type": "code",
   "execution_count": 22,
   "id": "ac223c7b-c94e-4fac-af87-41029ab3645f",
   "metadata": {},
   "outputs": [
    {
     "name": "stdout",
     "output_type": "stream",
     "text": [
      "Classification Accuracy: 52.29%\n"
     ]
    }
   ],
   "source": [
    "k = 5\n",
    "\n",
    "D2_Yprediction = [classify_majority_voting(D2_Xtrain, D2_Ytrain, test_point, k) for test_point in D2_Xtest]\n",
    "result_accuracy = accuracy(D2_Ytest, D2_Yprediction)\n",
    "print(f'Classification Accuracy: {result_accuracy:.2f}%')"
   ]
  },
  {
   "cell_type": "markdown",
   "id": "9ea0e7c3-b9b2-480a-8680-92214ce9b0d4",
   "metadata": {},
   "source": [
    "<p>The classification quality for $D_2$ appears suboptimal because accuracy only measures the proportion of correctly predicted values. Since y (quality) is a scale from 1 to 10, accuracy does not account for minor classification errors, such as predicting a value of 6 instead of 7 or 5.</p>"
   ]
  },
  {
   "cell_type": "markdown",
   "id": "4f91b48e-de84-410c-be1a-3efd78abfb37",
   "metadata": {},
   "source": [
    "<h4>Task 5: Regression Results</h4>"
   ]
  },
  {
   "cell_type": "code",
   "execution_count": 23,
   "id": "112026d9-4d88-48b3-91dc-cd0fd8390d34",
   "metadata": {},
   "outputs": [
    {
     "name": "stdout",
     "output_type": "stream",
     "text": [
      "Regression RMSE: 0.6879\n"
     ]
    }
   ],
   "source": [
    "k = 5\n",
    "\n",
    "D2_Yprediction = [predict_regression(D2_Xtrain, D2_Ytrain, test_point, k) for test_point in D2_Xtest]\n",
    "result = rmse(D2_Ytest, D2_Yprediction)\n",
    "print(f'Regression RMSE: {result:.4f}')"
   ]
  },
  {
   "cell_type": "markdown",
   "id": "28f64ccd-5007-4580-9043-5f4330b70e34",
   "metadata": {},
   "source": [
    "<h3>Exercise 2: Optimize and Compare KNN Algorithm </h3>\n",
    "<p>In this exercise, you need to determine the optimal value of K for the given datasets.</p>\n",
    "<ol>\n",
    "    <li>How can you choose the value of K for KNN? Provide a criterion to choose an optimal\n",
    "value of K.</li>\n",
    "    <li>Implement the criterion for choosing the optimal value of K.</li>\n",
    "    <li>Experimentally demonstrate that your chosen value is better than other values of K. [Hint: Run your experiment with different values of K and plot the error measure for each value].\n",
    "    </li>\n",
    "</ol>"
   ]
  },
  {
   "cell_type": "markdown",
   "id": "d193248b-6460-4311-89fd-cd4c3319bef6",
   "metadata": {},
   "source": [
    "<h4>Solution:</h4>"
   ]
  },
  {
   "cell_type": "code",
   "execution_count": 24,
   "id": "a842285b-b578-4604-88f6-90f573c73498",
   "metadata": {},
   "outputs": [],
   "source": [
    "import matplotlib.pyplot as plt"
   ]
  },
  {
   "cell_type": "markdown",
   "id": "b7e64628-6cf9-4ed8-a3a3-b4f0f4bb038d",
   "metadata": {},
   "source": [
    "<p>When choosing the optimal value of k, we need to consider the following factors:</p>\n",
    "<ul>\n",
    "    <li>Smaller K: Lower bias but higher variance, which may result in overfitting.</li>\n",
    "    <li>Larger K: Higher bias but lower variance, which may result in underfitting.</li>\n",
    "</ul>\n",
    "<p>Although we will use GridSearchCV in Task 3, I decided to implement my own version of GridSearch with k-fold cross-validation from Task 5. I have modified it for classification with D1 and regression with D2. In the end, we will plot both the cross-validation error and the test error against the values of k. By comparing both cross-validation error and test error across different values of k, we can identify the k (or a range) that minimizes overfitting and underfitting, ensuring the best balance between model complexity and accuracy</p>"
   ]
  },
  {
   "cell_type": "markdown",
   "id": "04be8701-b6f9-4f45-881e-0a2f01eefef5",
   "metadata": {},
   "source": [
    "<p>This function evaluates the optimal k for KNN models using cross-validation and test error comparison. It does so by splitting the training data into folds for every k, training on folds−1, and validating on the remaining fold, averaging validation errors across all folds. The calculation of the error is done using classification error percentage or RMSE depending on the method. It also computes test errors for each k and plots both validation and test errors against k to help visualize the best choice of k.</p>"
   ]
  },
  {
   "cell_type": "code",
   "execution_count": 25,
   "id": "418c2f45-6cc0-421e-b001-1ea0c5cdbb21",
   "metadata": {},
   "outputs": [],
   "source": [
    "def find_optimal_k(method, X_train, Y_train, X_test, Y_test, ks, folds=5):\n",
    "\n",
    "    fold_size = X_train.shape[0] // folds\n",
    "\n",
    "    validation_errors = np.zeros(len(ks))\n",
    "    test_errors = np.zeros(len(ks))\n",
    "\n",
    "    metric_labels = {\n",
    "        'classification': 'Classification Error (%)',\n",
    "        'regression': 'RMSE'\n",
    "    }\n",
    "    y_label = metric_labels.get(method, \"\")\n",
    "\n",
    "    def calculate_error(true, pred, method):\n",
    "        if method == 'classification':\n",
    "            return 100 - accuracy(true, pred) \n",
    "        elif method == 'regression':\n",
    "            return rmse(true, pred) \n",
    "\n",
    "    for i, k in enumerate(ks):\n",
    "        fold_errors = []\n",
    "\n",
    "        for fold in range(folds):\n",
    "            start, end = fold * fold_size, (fold + 1) * fold_size\n",
    "            if fold == folds - 1: \n",
    "                end = X_train.shape[0]\n",
    "\n",
    "            X_val, Y_val = X_train[start:end], Y_train[start:end]\n",
    "            X_fold_train = np.concatenate([X_train[:start], X_train[end:]], axis=0)\n",
    "            Y_fold_train = np.concatenate([Y_train[:start], Y_train[end:]], axis=0)\n",
    "\n",
    "            if method == 'classification':\n",
    "                Y_pred = [classify_majority_voting(X_fold_train, Y_fold_train, test_point, k) for test_point in X_val]\n",
    "            elif method == 'regression':\n",
    "                Y_pred = [predict_regression(X_fold_train, Y_fold_train, test_point, k) for test_point in X_val]\n",
    "\n",
    "            fold_errors.append(calculate_error(Y_val, Y_pred, method))\n",
    "\n",
    "        if method == 'classification':\n",
    "            Y_test_pred = [classify_majority_voting(X_train, Y_train, test_point, k) for test_point in X_test]\n",
    "        elif method == 'regression':\n",
    "            Y_test_pred = [predict_regression(X_train, Y_train, test_point, k) for test_point in X_test]\n",
    "\n",
    "        validation_errors[i] = np.mean(fold_errors)\n",
    "        test_errors[i] = calculate_error(Y_test, Y_test_pred, method)\n",
    "\n",
    "    plt.figure(figsize = (10,6))\n",
    "    plt.plot(ks, validation_errors, marker = 'o', color = 'blue', label = 'Cross-Validation Error')\n",
    "    plt.plot(ks, test_errors, marker = 'o', color = 'orange', label = 'Test Error')\n",
    "    plt.title(f'k vs {y_label}')\n",
    "    plt.xlabel('k')\n",
    "    plt.ylabel(y_label)\n",
    "    plt.legend()\n",
    "    plt.grid()\n",
    "    plt.show()"
   ]
  },
  {
   "cell_type": "code",
   "execution_count": 26,
   "id": "1008fdb7-e0db-4317-99ad-e5589636944e",
   "metadata": {},
   "outputs": [
    {
     "data": {
      "image/png": "[encoded data removed]",
      "text/plain": [
       "<Figure size 1000x600 with 1 Axes>"
      ]
     },
     "metadata": {},
     "output_type": "display_data"
    }
   ],
   "source": [
    "find_optimal_k('classification', D1_Xtrain, D1_Ytrain, D1_Xtest, D1_Ytest, list(range(1, 101)))"
   ]
  },
  {
   "cell_type": "markdown",
   "id": "66ba8c04-3538-466d-8c71-363018507a50",
   "metadata": {},
   "source": [
    "<p>As we can see, the optimal k-value appears to lie within the interval of 1 to 20, making k = 10 a reasonable choice for classification with $D_1$.</p>"
   ]
  },
  {
   "cell_type": "code",
   "execution_count": 27,
   "id": "5999036c-3104-44c5-9326-c1150b121c7d",
   "metadata": {},
   "outputs": [
    {
     "data": {
      "image/png": "[encoded data removed]",
      "text/plain": [
       "<Figure size 1000x600 with 1 Axes>"
      ]
     },
     "metadata": {},
     "output_type": "display_data"
    }
   ],
   "source": [
    "find_optimal_k('regression', D2_Xtrain, D2_Ytrain, D2_Xtest, D2_Ytest, list(range(1, 101, 10)))"
   ]
  },
  {
   "cell_type": "markdown",
   "id": "199c2fdc-4202-4062-8a28-03f966dc9161",
   "metadata": {},
   "source": [
    "<p>As we can see, the optimal k-value appears to lie within the interval of 10 to 30, making k = 20 a reasonable choice for regression with $D_2$.</p>"
   ]
  },
  {
   "cell_type": "markdown",
   "id": "46f9d11c-213f-44e1-8138-09826d839dbe",
   "metadata": {},
   "source": [
    "<h3>Exercise 3: Compare KNN Algorithm with Tree-Based Methods</h3>\n",
    "<p>In this task, you are allowed to use Scikit-Learn. In particular, you will use the Nearest Neighbor\n",
    "and Decision Tree implementations provided by Scikit-Learn.\n",
    "</p>\n",
    "<ul>\n",
    "    <li>Use Nearest Neighbor and Decision Tree provided by Scikit-Learn to solve the classification\n",
    "task for the two datasets.</li>\n",
    "    <li>Provide the optimal hyperparameters for both methods. [Hint: Use Grid Search and\n",
    "cross-validation and present results to support your solution].</li>\n",
    "    <li>Present a comparison of the two methods using evaluation results on test datasets. [Hint:\n",
    "It is better to use cross-validation to confirm your results].</li>\n",
    "</ul>"
   ]
  },
  {
   "cell_type": "markdown",
   "id": "3258ed95-91fc-4084-8cc9-9522f45b832e",
   "metadata": {},
   "source": [
    "<h4>Solution:</h4>"
   ]
  },
  {
   "cell_type": "code",
   "execution_count": 28,
   "id": "1c61c9d3-d8dc-45e9-8e1b-a748b0f29c5e",
   "metadata": {},
   "outputs": [],
   "source": [
    "from sklearn.neighbors import KNeighborsClassifier, KNeighborsRegressor\n",
    "from sklearn.tree import DecisionTreeClassifier, DecisionTreeRegressor\n",
    "from sklearn.metrics import accuracy_score, root_mean_squared_error\n",
    "from sklearn.model_selection import GridSearchCV"
   ]
  },
  {
   "cell_type": "markdown",
   "id": "c2e1cb45-f6ab-4726-8f72-a2465e855edf",
   "metadata": {},
   "source": [
    "<h4>Task 1: Nearest Neighbour and Decision Tree Classification with Scikit-Learn</h4>"
   ]
  },
  {
   "cell_type": "code",
   "execution_count": 29,
   "id": "36cdb760-b2b2-4e18-aaad-6fad1092679e",
   "metadata": {},
   "outputs": [],
   "source": [
    "def evaluate_models(X_train, Y_train, X_test, Y_test):\n",
    "    \n",
    "    # Nearest Neighbor\n",
    "    knn = KNeighborsClassifier()\n",
    "    knn.fit(X_train, Y_train)\n",
    "    Y_predictions_knn = knn.predict(X_test)\n",
    "    knn_accuracy = accuracy_score(Y_test, Y_predictions_knn)\n",
    "    print(f'Nearest Neighbor Accuracy: {knn_accuracy:.4f}')\n",
    "\n",
    "    # Decision Tree\n",
    "    dt = DecisionTreeClassifier()\n",
    "    dt.fit(X_train, Y_train)\n",
    "    Y_predictions_dt = dt.predict(X_test)\n",
    "    dt_accuracy = accuracy_score(Y_test, Y_predictions_dt)\n",
    "    print(f'Decision Tree Accuracy: {dt_accuracy:.4f}')"
   ]
  },
  {
   "cell_type": "code",
   "execution_count": 30,
   "id": "6de666a8-8025-46d2-9e54-14c6025f9068",
   "metadata": {},
   "outputs": [
    {
     "name": "stdout",
     "output_type": "stream",
     "text": [
      "Nearest Neighbor Accuracy: 0.9333\n",
      "Decision Tree Accuracy: 0.9778\n"
     ]
    }
   ],
   "source": [
    "evaluate_models(D1_Xtrain, D1_Ytrain, D1_Xtest, D1_Ytest)"
   ]
  },
  {
   "cell_type": "code",
   "execution_count": 31,
   "id": "c8871e44-ebd2-4b6c-ad8c-9a20fefddd01",
   "metadata": {},
   "outputs": [
    {
     "name": "stdout",
     "output_type": "stream",
     "text": [
      "Nearest Neighbor Accuracy: 0.5312\n",
      "Decision Tree Accuracy: 0.6000\n"
     ]
    }
   ],
   "source": [
    "evaluate_models(D2_Xtrain, D2_Ytrain, D2_Xtest, D2_Ytest)"
   ]
  },
  {
   "cell_type": "markdown",
   "id": "7365c406-a281-4155-9409-5ac81a851f7f",
   "metadata": {},
   "source": [
    "<h4>Task 2: Optimal Hyperparameters for both methods using GridSearchCV</h4>"
   ]
  },
  {
   "cell_type": "markdown",
   "id": "2b9de532-7484-4b4a-8d14-4a04eb090e12",
   "metadata": {},
   "source": [
    "<p>Although Task 1 focused solely on classification, I decided to address the following task for both classification and regression (for D2).</p>\n",
    "<p>This function performs hyperparameter tuning using GridSearchCV for k-nearest-neighbors (KNN) or Decision Trees (DT) on both classification and regression tasks. It evaluates classification models on datasets $D_1$ and $D_2$ using accuracy and regression models on $D_2$ using RMSE. The best parameters and their corresponding scores are printed for each model and dataset. Finally, it returns the best parameters for further analysis.</p>"
   ]
  },
  {
   "cell_type": "code",
   "execution_count": 32,
   "id": "781e1e87-7098-4af8-9c45-66336be0581c",
   "metadata": {},
   "outputs": [],
   "source": [
    "def gridsearchcv_evaluation(method, param_grid, D1_Xtrain, D1_Ytrain, D2_Xtrain, D2_Ytrain):\n",
    "    \n",
    "    if method == 'KNN':\n",
    "        model1 = KNeighborsClassifier()\n",
    "        model2 = KNeighborsRegressor()\n",
    "    elif method == 'DT':\n",
    "        model1 = DecisionTreeClassifier()\n",
    "        model2 = DecisionTreeRegressor()\n",
    "\n",
    "    # Classification\n",
    "    D1_c = GridSearchCV(model1, param_grid, scoring = 'accuracy')\n",
    "    D1_c.fit(D1_Xtrain, D1_Ytrain)\n",
    "    \n",
    "    D2_c = GridSearchCV(model1, param_grid, scoring = 'accuracy')\n",
    "    D2_c.fit(D2_Xtrain, D2_Ytrain)\n",
    "\n",
    "    # Regression\n",
    "    D2_r = GridSearchCV(model2, param_grid, scoring = 'neg_root_mean_squared_error')\n",
    "    D2_r.fit(D2_Xtrain, D2_Ytrain)\n",
    "\n",
    "    # Results\n",
    "    print('Classification Results')\n",
    "    print(f'D1 - Best {method} Params: {D1_c.best_params_}')\n",
    "    print(f'D1 - Best {method} Accuracy: {D1_c.best_score_:.4f}')\n",
    "    print()\n",
    "    print(f'D2 - Best {method} Params: {D2_c.best_params_}')\n",
    "    print(f'D2 - Best {method} Accuracy: {D2_c.best_score_:.4f}')\n",
    "    print()\n",
    "    print('Regression Results')\n",
    "    print(f'D2 - Best {method} Params: {D2_r.best_params_}')\n",
    "    print(f'D2 - Best {method} RMSE: {-D2_r.best_score_:.4f}')\n",
    "\n",
    "    return D1_c.best_params_, D2_c.best_params_, D2_r.best_params_"
   ]
  },
  {
   "cell_type": "markdown",
   "id": "44c40b83-f735-4873-ba81-70ca3769ed4d",
   "metadata": {},
   "source": [
    "<h4>Optimal KNN Hyperparameter</h4>"
   ]
  },
  {
   "cell_type": "markdown",
   "id": "624e5a3a-a295-4bc2-b574-5cbace0b8edf",
   "metadata": {},
   "source": [
    "<p>For KNN, we will only use k as our hyperparameter.</p>"
   ]
  },
  {
   "cell_type": "code",
   "execution_count": 33,
   "id": "8b0deed7-9fe7-421d-90cb-83a11fb076e9",
   "metadata": {},
   "outputs": [
    {
     "name": "stdout",
     "output_type": "stream",
     "text": [
      "Classification Results\n",
      "D1 - Best KNN Params: {'n_neighbors': 1}\n",
      "D1 - Best KNN Accuracy: 0.9714\n",
      "\n",
      "D2 - Best KNN Params: {'n_neighbors': 1}\n",
      "D2 - Best KNN Accuracy: 0.6104\n",
      "\n",
      "Regression Results\n",
      "D2 - Best KNN Params: {'n_neighbors': 26}\n",
      "D2 - Best KNN RMSE: 0.6650\n"
     ]
    }
   ],
   "source": [
    "param_grid = {\n",
    "    'n_neighbors': range(1, 50)\n",
    "}\n",
    "\n",
    "D1_knn_param_c, D2_knn_param_c, D2_knn_param_r = gridsearchcv_evaluation(\"KNN\", param_grid, D1_Xtrain, D1_Ytrain, D2_Xtrain, D2_Ytrain)"
   ]
  },
  {
   "cell_type": "markdown",
   "id": "2b30c5f8-6d70-4e4d-996d-1cfe46426df2",
   "metadata": {},
   "source": [
    "<p>The results of the evaluation are that the KNN model performs well in the classification task for $D_1$ with high accuracy. For $D_2$, the accuracy in classification is considerably low, indicating that the model does not classify this dataset accurately (see explanation task 1). The same seems to be true for regression when comparing the obtained RMSE with previous tasks (no improvement)</p>"
   ]
  },
  {
   "cell_type": "markdown",
   "id": "b4657c0b-585e-4db1-9dc0-75ac12359d26",
   "metadata": {},
   "source": [
    "<h4>Optimal Decision Tree Hyperparameters</h4>"
   ]
  },
  {
   "cell_type": "markdown",
   "id": "abb8a441-43fa-4f37-bcb5-48b1e12965c6",
   "metadata": {},
   "source": [
    "<p>For the decision tree, we use max_depth, min_samples_split, and min_samples_leaf to control overfitting by limiting tree complexity and ensuring meaningful splits and leaves.</p>"
   ]
  },
  {
   "cell_type": "code",
   "execution_count": 34,
   "id": "4af98716-7944-4d2f-8659-575133fa2826",
   "metadata": {},
   "outputs": [
    {
     "name": "stdout",
     "output_type": "stream",
     "text": [
      "Classification Results\n",
      "D1 - Best DT Params: {'max_depth': None, 'min_samples_leaf': 2, 'min_samples_split': 2}\n",
      "D1 - Best DT Accuracy: 0.9333\n",
      "\n",
      "D2 - Best DT Params: {'max_depth': 20, 'min_samples_leaf': 1, 'min_samples_split': 2}\n",
      "D2 - Best DT Accuracy: 0.5943\n",
      "\n",
      "Regression Results\n",
      "D2 - Best DT Params: {'max_depth': 10, 'min_samples_leaf': 1, 'min_samples_split': 20}\n",
      "D2 - Best DT RMSE: 0.7141\n"
     ]
    }
   ],
   "source": [
    "param_grid = {\n",
    "    'max_depth': [None, 10, 20, 30, 40, 50],\n",
    "    'min_samples_split': [2, 5, 10, 20],\n",
    "    'min_samples_leaf': [1, 2, 4, 8]\n",
    "}\n",
    "\n",
    "D1_dt_param_c, D2_dt_param_c, D2_dt_param_r = gridsearchcv_evaluation(\"DT\", param_grid, D1_Xtrain, D1_Ytrain, D2_Xtrain, D2_Ytrain)"
   ]
  },
  {
   "cell_type": "markdown",
   "id": "df812f53-f7e2-4842-9328-f8694f335184",
   "metadata": {},
   "source": [
    "<p>The evaluation results for Decision Trees (DT) show a good classification performance for $D_1$. As already said, $D_2$ is more challenging to classify.</p>"
   ]
  },
  {
   "cell_type": "markdown",
   "id": "eb4c4b46-5f01-4854-862b-f082e7c9ca0f",
   "metadata": {},
   "source": [
    "<h4>Task 3: Optimal Hyperparameter Model Comparision on Test Data</h4>"
   ]
  },
  {
   "cell_type": "code",
   "execution_count": 35,
   "id": "8e936de2-f926-42ce-aa4d-aa86420ac17e",
   "metadata": {},
   "outputs": [],
   "source": [
    "from sklearn.model_selection import cross_val_score"
   ]
  },
  {
   "cell_type": "markdown",
   "id": "bf558d27-dbf9-4359-b50b-85d11fc44b80",
   "metadata": {},
   "source": [
    "<p>This function evaluates KNN or Decision Tree models for both classification and regression tasks using cross-validation and test datasets. It performs cross-validation on $D_1$ for classification and $D_2$ for both classification and regression, calculating the mean accuracy and RMSE. The models are then trained on the full training data and tested on the corresponding test datasets. The function returns the mean cross-validation scores along with the test performance metrics for both datasets.</p>"
   ]
  },
  {
   "cell_type": "code",
   "execution_count": 36,
   "id": "adbe152c-d298-4f33-b306-047a98c33d4f",
   "metadata": {},
   "outputs": [],
   "source": [
    "def cross_validate_and_test(method):\n",
    "    \n",
    "    if method == 'KNN':\n",
    "        model1 = KNeighborsClassifier(**D1_knn_param_c)\n",
    "        model2 = KNeighborsRegressor(**D2_knn_param_r)\n",
    "    elif method == 'DT':\n",
    "        model1 = DecisionTreeClassifier(**D1_dt_param_c)\n",
    "        model2 = DecisionTreeRegressor(**D2_dt_param_r)\n",
    "\n",
    "    # CV for D1 classification\n",
    "    D1_cv_scores = cross_val_score(model1, D1_Xtrain, D1_Ytrain, scoring = 'accuracy')\n",
    "    D1_cv_mean = np.mean(D1_cv_scores)\n",
    "\n",
    "    # CV for D2 classification\n",
    "    D2_cv_scores_c = cross_val_score(model1, D2_Xtrain, D2_Ytrain, scoring = 'accuracy')\n",
    "    D2_cv_mean_c = np.mean(D2_cv_scores_c)\n",
    "\n",
    "    # CV for D2 regression\n",
    "    D2_cv_scores_r = cross_val_score(model2, D2_Xtrain, D2_Ytrain, scoring = 'neg_root_mean_squared_error')\n",
    "    D2_cv_mean_r = - np.mean(D2_cv_scores_r)\n",
    "\n",
    "    # Test dataset evaluation\n",
    "    model1.fit(D1_Xtrain, D1_Ytrain)\n",
    "    D1_test_acc = accuracy_score(D1_Ytest, model1.predict(D1_Xtest))\n",
    "\n",
    "    model1.fit(D2_Xtrain, D2_Ytrain)\n",
    "    D2_test_acc = accuracy_score(D2_Ytest, model1.predict(D2_Xtest))\n",
    "\n",
    "    model2.fit(D2_Xtrain, D2_Ytrain)\n",
    "    D2_test_rmse = root_mean_squared_error(D2_Ytest, model2.predict(D2_Xtest))\n",
    "\n",
    "    return D1_cv_mean, D1_test_acc, D2_cv_mean_c, D2_test_acc, D2_cv_mean_r, D2_test_rmse"
   ]
  },
  {
   "cell_type": "code",
   "execution_count": 37,
   "id": "18dddfb1-83ca-4fdc-9389-b663ff8aa997",
   "metadata": {},
   "outputs": [
    {
     "name": "stdout",
     "output_type": "stream",
     "text": [
      "KNN Results:\n",
      " (Classification) D1 Cross-Val Accuracy: 0.9714, Test Accuracy: 0.9333\n",
      " (Classification) D2 Cross-Val Accuracy: 0.6104, Test Accuracy: 0.5813\n",
      " (Regression) D2 Cross-Val RMSE: 0.6650, Test RMSE: 0.6469\n",
      "\n",
      "Decision Tree Results:\n",
      " (Classification) D1 Cross-Val Accuracy: 0.9333, Test Accuracy: 0.9778\n",
      " (Classification) D2 Cross-Val Accuracy: 0.5737, Test Accuracy: 0.5979\n",
      " (Regression) D2 Cross-Val RMSE: 0.7238, Test RMSE: 0.7444\n"
     ]
    }
   ],
   "source": [
    "# Evaluate KNN\n",
    "D1_knn_cv, D1_knn_test, D2_knn_cv_c, D2_knn_test_c, D2_knn_cv_r, D2_knn_test_r = cross_validate_and_test('KNN')\n",
    "\n",
    "# Evaluate Decision Tree\n",
    "D1_dt_cv, D1_dt_test, D2_dt_cv_c, D2_dt_test_c, D2_dt_cv_r, D2_dt_test_r = cross_validate_and_test('DT')\n",
    "\n",
    "# Print Comparison\n",
    "print('KNN Results:')\n",
    "print(f' (Classification) D1 Cross-Val Accuracy: {D1_knn_cv:.4f}, Test Accuracy: {D1_knn_test:.4f}')\n",
    "print(f' (Classification) D2 Cross-Val Accuracy: {D2_knn_cv_c:.4f}, Test Accuracy: {D2_knn_test_c:.4f}')\n",
    "print(f' (Regression) D2 Cross-Val RMSE: {D2_knn_cv_r:.4f}, Test RMSE: {D2_knn_test_r:.4f}')\n",
    "print()\n",
    "print('Decision Tree Results:')\n",
    "print(f' (Classification) D1 Cross-Val Accuracy: {D1_dt_cv:.4f}, Test Accuracy: {D1_dt_test:.4f}')\n",
    "print(f' (Classification) D2 Cross-Val Accuracy: {D2_dt_cv_c:.4f}, Test Accuracy: {D2_dt_test_c:.4f}')\n",
    "print(f' (Regression) D2 Cross-Val RMSE: {D2_dt_cv_r:.4f}, Test RMSE: {D2_dt_test_r:.4f}')"
   ]
  },
  {
   "cell_type": "markdown",
   "id": "b63c7556-6740-4ed8-9fce-90925f7767bb",
   "metadata": {},
   "source": [
    "<p>The results show that for KNN, the model performs excellently on $D_1$ classification with high cross-validation accuracy and good test accuracy. However, it still struggles with $D_2$.</p>\n",
    "<p>For Decision Trees, the model also performs well on $D_1$ classification with a high cross-validation accuracy and test accuracy. Like KNN, the Decision Tree struggles with $D_2$</p>"
   ]
  }
 ],
 "metadata": {
  "kernelspec": {
   "display_name": "Python 3 (ipykernel)",
   "language": "python",
   "name": "python3"
  },
  "language_info": {
   "codemirror_mode": {
    "name": "ipython",
    "version": 3
   },
   "file_extension": ".py",
   "mimetype": "text/x-python",
   "name": "python",
   "nbconvert_exporter": "python",
   "pygments_lexer": "ipython3",
   "version": "3.13.0"
  }
 },
 "nbformat": 4,
 "nbformat_minor": 5
}
