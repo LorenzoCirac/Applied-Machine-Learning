{
 "cells": [
  {
   "cell_type": "code",
   "execution_count": null,
   "id": "33615464-8783-4fb4-8342-ccae4c61c892",
   "metadata": {},
   "outputs": [],
   "source": [
    "# Title"
   ]
  },
  {
   "cell_type": "markdown",
   "id": "d8f17ca8-41f4-417c-9890-894cb9359376",
   "metadata": {},
   "source": [
    "<h2><center>Applied Machine Learning - Assignment x</center></h2>\n",
    "<h4><center>Lorenzo Cirac Monteagduo</center></h4>"
   ]
  },
  {
   "cell_type": "code",
   "execution_count": null,
   "id": "5930a85c-9c85-46f9-ba20-1fba4e118f57",
   "metadata": {},
   "outputs": [],
   "source": [
    "# Question"
   ]
  },
  {
   "cell_type": "markdown",
   "id": "93372579-f92a-49f1-bc35-2cf87813c6a0",
   "metadata": {},
   "source": [
    "<h3>Question y:</h3>"
   ]
  },
  {
   "cell_type": "markdown",
   "id": "058e5cd2-802c-4efc-bf34-69440b9f6326",
   "metadata": {},
   "source": [
    "<h4>Task a:</h4>"
   ]
  },
  {
   "cell_type": "code",
   "execution_count": null,
   "id": "c3709f5c-a091-4995-9210-357ed2dfd030",
   "metadata": {},
   "outputs": [],
   "source": []
  }
 ],
 "metadata": {
  "kernelspec": {
   "display_name": "Python 3 (ipykernel)",
   "language": "python",
   "name": "python3"
  },
  "language_info": {
   "codemirror_mode": {
    "name": "ipython",
    "version": 3
   },
   "file_extension": ".py",
   "mimetype": "text/x-python",
   "name": "python",
   "nbconvert_exporter": "python",
   "pygments_lexer": "ipython3",
   "version": "3.13.0"
  }
 },
 "nbformat": 4,
 "nbformat_minor": 5
}
