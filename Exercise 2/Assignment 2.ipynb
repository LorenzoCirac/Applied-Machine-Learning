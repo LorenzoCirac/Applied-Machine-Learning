{
 "cells": [
  {
   "cell_type": "markdown",
   "id": "177882f2-d560-4090-8b12-61393de84e7f",
   "metadata": {},
   "source": [
    "<h2><center>Applied Machine Learning - Assignment 2</center></h2>\n",
    "<h4><center>Lorenzo Cirac Monteagduo</center></h4>"
   ]
  },
  {
   "cell_type": "code",
   "execution_count": 1,
   "id": "8ad911ec-2540-401b-8b9a-2b9559c1050e",
   "metadata": {},
   "outputs": [],
   "source": [
    "import pandas as pd\n",
    "import matplotlib.pyplot as plt\n",
    "import numpy as np"
   ]
  },
  {
   "cell_type": "markdown",
   "id": "14642c48-6683-40e8-b5ff-da6cb377f226",
   "metadata": {},
   "source": [
    "<h3>Question 1 - Pandas</h3>"
   ]
  },
  {
   "cell_type": "markdown",
   "id": "94ae8093-3b65-43bd-88cc-2e8ec50e50a8",
   "metadata": {},
   "source": [
    "<h4>Dataset Exploration</h4>\n",
    "<p>Download Gasprices.csv. This dataset contains information about the\n",
    "sales of gas stations across a city along with other attributes. You will analyze this dataset using\n",
    "pandas library and plot some interesting information using the matplotlib library.</p>\n",
    "<ul>\n",
    "    <li>Load the data using pandas</li>\n",
    "    <li>Summarize each NUMERIC field</li>\n",
    "    <li>Group data by the field Name: <ul>\n",
    "            <li>Find the average price, average income, and average number of pumps for each group.</li>\n",
    "            <li>Use a boxplot that visualizes the statistical information about (price, pumps, gasoline).</li>\n",
    "            <li>Use the Price and Income features to plot a prediction line similar to the first exercise.\n",
    "Normalize the Income (implement this yourself) and plot the line again. Comment on\n",
    "the difference between the two plots.</li>\n",
    "        </ul>\n",
    "    </li>\n",
    "</ul>"
   ]
  },
  {
   "cell_type": "markdown",
   "id": "7979f8bf-6c9d-4fa4-81c4-2519292f6ffd",
   "metadata": {},
   "source": [
    "<h4>Solution</h4>\n",
    "<p>Let's begin with loading in gasprices.csv in a pandas dataframe. To summarize each numeric field in the data, such as the mean, standard deviation, and other statistics, we can use the pandas.describe() function. This will provide information about the mean, standard deviation, and other key statistics for each numeric field.</p>"
   ]
  },
  {
   "cell_type": "code",
   "execution_count": 2,
   "id": "d0ebad0c-1f01-472e-866a-ba3323795286",
   "metadata": {},
   "outputs": [
    {
     "name": "stdout",
     "output_type": "stream",
     "text": [
      "<class 'pandas.core.frame.DataFrame'>\n",
      "RangeIndex: 101 entries, 0 to 100\n",
      "Data columns (total 18 columns):\n",
      " #   Column                 Non-Null Count  Dtype  \n",
      "---  ------                 --------------  -----  \n",
      " 0   Unnamed: 0             101 non-null    int64  \n",
      " 1   ID                     101 non-null    int64  \n",
      " 2   Name                   101 non-null    object \n",
      " 3   Price                  101 non-null    float64\n",
      " 4   Pumps                  101 non-null    int64  \n",
      " 5   Interior               101 non-null    object \n",
      " 6   Restaurant             101 non-null    object \n",
      " 7   CarWash                101 non-null    object \n",
      " 8   Highway                101 non-null    object \n",
      " 9   Intersection           101 non-null    object \n",
      " 10  Stoplight              101 non-null    object \n",
      " 11  IntersectionStoplight  94 non-null     object \n",
      " 12  Gasolines              101 non-null    int64  \n",
      " 13  Competitors            101 non-null    object \n",
      " 14  Zipcode                101 non-null    int64  \n",
      " 15  Address                101 non-null    object \n",
      " 16  Income                 101 non-null    int64  \n",
      " 17  Brand                  101 non-null    object \n",
      "dtypes: float64(1), int64(6), object(11)\n",
      "memory usage: 14.3+ KB\n"
     ]
    }
   ],
   "source": [
    "gasprices = pd.read_csv('res/gasprices.csv')\n",
    "\n",
    "gasprices.info()"
   ]
  },
  {
   "cell_type": "code",
   "execution_count": 3,
   "id": "c510590b-44d4-4017-92e0-59c0fb6bb24e",
   "metadata": {},
   "outputs": [
    {
     "data": {
      "text/html": [
       "<div>\n",
       "<style scoped>\n",
       "    .dataframe tbody tr th:only-of-type {\n",
       "        vertical-align: middle;\n",
       "    }\n",
       "\n",
       "    .dataframe tbody tr th {\n",
       "        vertical-align: top;\n",
       "    }\n",
       "\n",
       "    .dataframe thead th {\n",
       "        text-align: right;\n",
       "    }\n",
       "</style>\n",
       "<table border=\"1\" class=\"dataframe\">\n",
       "  <thead>\n",
       "    <tr style=\"text-align: right;\">\n",
       "      <th></th>\n",
       "      <th>Price</th>\n",
       "      <th>Pumps</th>\n",
       "      <th>Gasolines</th>\n",
       "      <th>Income</th>\n",
       "    </tr>\n",
       "  </thead>\n",
       "  <tbody>\n",
       "    <tr>\n",
       "      <th>count</th>\n",
       "      <td>101.000000</td>\n",
       "      <td>101.000000</td>\n",
       "      <td>101.000000</td>\n",
       "      <td>101.000000</td>\n",
       "    </tr>\n",
       "    <tr>\n",
       "      <th>mean</th>\n",
       "      <td>1.864257</td>\n",
       "      <td>6.950495</td>\n",
       "      <td>3.465347</td>\n",
       "      <td>56727.217822</td>\n",
       "    </tr>\n",
       "    <tr>\n",
       "      <th>std</th>\n",
       "      <td>0.081515</td>\n",
       "      <td>3.925242</td>\n",
       "      <td>0.557931</td>\n",
       "      <td>25868.359804</td>\n",
       "    </tr>\n",
       "    <tr>\n",
       "      <th>min</th>\n",
       "      <td>1.730000</td>\n",
       "      <td>2.000000</td>\n",
       "      <td>1.000000</td>\n",
       "      <td>12786.000000</td>\n",
       "    </tr>\n",
       "    <tr>\n",
       "      <th>25%</th>\n",
       "      <td>1.790000</td>\n",
       "      <td>4.000000</td>\n",
       "      <td>3.000000</td>\n",
       "      <td>37690.000000</td>\n",
       "    </tr>\n",
       "    <tr>\n",
       "      <th>50%</th>\n",
       "      <td>1.850000</td>\n",
       "      <td>6.000000</td>\n",
       "      <td>3.000000</td>\n",
       "      <td>52306.000000</td>\n",
       "    </tr>\n",
       "    <tr>\n",
       "      <th>75%</th>\n",
       "      <td>1.920000</td>\n",
       "      <td>8.000000</td>\n",
       "      <td>4.000000</td>\n",
       "      <td>70095.000000</td>\n",
       "    </tr>\n",
       "    <tr>\n",
       "      <th>max</th>\n",
       "      <td>2.090000</td>\n",
       "      <td>24.000000</td>\n",
       "      <td>4.000000</td>\n",
       "      <td>128556.000000</td>\n",
       "    </tr>\n",
       "  </tbody>\n",
       "</table>\n",
       "</div>"
      ],
      "text/plain": [
       "            Price       Pumps   Gasolines         Income\n",
       "count  101.000000  101.000000  101.000000     101.000000\n",
       "mean     1.864257    6.950495    3.465347   56727.217822\n",
       "std      0.081515    3.925242    0.557931   25868.359804\n",
       "min      1.730000    2.000000    1.000000   12786.000000\n",
       "25%      1.790000    4.000000    3.000000   37690.000000\n",
       "50%      1.850000    6.000000    3.000000   52306.000000\n",
       "75%      1.920000    8.000000    4.000000   70095.000000\n",
       "max      2.090000   24.000000    4.000000  128556.000000"
      ]
     },
     "execution_count": 3,
     "metadata": {},
     "output_type": "execute_result"
    }
   ],
   "source": [
    "gasprices[['Price', 'Pumps', 'Gasolines', 'Income']].describe()"
   ]
  },
  {
   "cell_type": "markdown",
   "id": "78739c2a-d02c-4d7b-b202-39a27f8f2755",
   "metadata": {},
   "source": [
    "<p>For this task, we will combine the groupby() function with the agg() function. First, we will group our data by\n",
    "the \"Name\" column. Then, we will use the agg() function to create the columns Avg_Price, Avg_Income, and\n",
    "Avg_Pumps, where we will apply the mean function to each numeric field. In the end, we use the reset_index()\n",
    "function to convert the grouped result back into a DataFrame with a default integer index.</p>"
   ]
  },
  {
   "cell_type": "code",
   "execution_count": 4,
   "id": "9952e59d-d575-42d0-acdb-752bdfc35a63",
   "metadata": {},
   "outputs": [
    {
     "data": {
      "text/html": [
       "<div>\n",
       "<style scoped>\n",
       "    .dataframe tbody tr th:only-of-type {\n",
       "        vertical-align: middle;\n",
       "    }\n",
       "\n",
       "    .dataframe tbody tr th {\n",
       "        vertical-align: top;\n",
       "    }\n",
       "\n",
       "    .dataframe thead th {\n",
       "        text-align: right;\n",
       "    }\n",
       "</style>\n",
       "<table border=\"1\" class=\"dataframe\">\n",
       "  <thead>\n",
       "    <tr style=\"text-align: right;\">\n",
       "      <th></th>\n",
       "      <th>Name</th>\n",
       "      <th>Avg_Price</th>\n",
       "      <th>Avg_Income</th>\n",
       "      <th>Avg_Pumps</th>\n",
       "    </tr>\n",
       "  </thead>\n",
       "  <tbody>\n",
       "    <tr>\n",
       "      <th>0</th>\n",
       "      <td>7-Eleven</td>\n",
       "      <td>1.887778</td>\n",
       "      <td>53432.333333</td>\n",
       "      <td>4.666667</td>\n",
       "    </tr>\n",
       "    <tr>\n",
       "      <th>1</th>\n",
       "      <td>Around the Corner Store</td>\n",
       "      <td>1.940000</td>\n",
       "      <td>63750.000000</td>\n",
       "      <td>2.000000</td>\n",
       "    </tr>\n",
       "    <tr>\n",
       "      <th>2</th>\n",
       "      <td>Chevron</td>\n",
       "      <td>1.871818</td>\n",
       "      <td>61754.636364</td>\n",
       "      <td>8.727273</td>\n",
       "    </tr>\n",
       "    <tr>\n",
       "      <th>3</th>\n",
       "      <td>Citgo</td>\n",
       "      <td>1.835000</td>\n",
       "      <td>49387.000000</td>\n",
       "      <td>4.000000</td>\n",
       "    </tr>\n",
       "    <tr>\n",
       "      <th>4</th>\n",
       "      <td>Conoco</td>\n",
       "      <td>1.890000</td>\n",
       "      <td>43545.500000</td>\n",
       "      <td>4.000000</td>\n",
       "    </tr>\n",
       "    <tr>\n",
       "      <th>5</th>\n",
       "      <td>Costco</td>\n",
       "      <td>1.730000</td>\n",
       "      <td>70095.000000</td>\n",
       "      <td>12.000000</td>\n",
       "    </tr>\n",
       "    <tr>\n",
       "      <th>6</th>\n",
       "      <td>Double R Grocery</td>\n",
       "      <td>1.790000</td>\n",
       "      <td>37690.000000</td>\n",
       "      <td>4.000000</td>\n",
       "    </tr>\n",
       "    <tr>\n",
       "      <th>7</th>\n",
       "      <td>East 1st Grocery</td>\n",
       "      <td>1.770000</td>\n",
       "      <td>37690.000000</td>\n",
       "      <td>4.000000</td>\n",
       "    </tr>\n",
       "    <tr>\n",
       "      <th>8</th>\n",
       "      <td>Exxon</td>\n",
       "      <td>1.855000</td>\n",
       "      <td>52344.333333</td>\n",
       "      <td>11.500000</td>\n",
       "    </tr>\n",
       "    <tr>\n",
       "      <th>9</th>\n",
       "      <td>Gulf</td>\n",
       "      <td>1.788571</td>\n",
       "      <td>50084.142857</td>\n",
       "      <td>5.714286</td>\n",
       "    </tr>\n",
       "    <tr>\n",
       "      <th>10</th>\n",
       "      <td>HEB Fuel</td>\n",
       "      <td>1.790000</td>\n",
       "      <td>36903.500000</td>\n",
       "      <td>11.000000</td>\n",
       "    </tr>\n",
       "    <tr>\n",
       "      <th>11</th>\n",
       "      <td>Kool Corner</td>\n",
       "      <td>1.790000</td>\n",
       "      <td>42615.000000</td>\n",
       "      <td>4.000000</td>\n",
       "    </tr>\n",
       "    <tr>\n",
       "      <th>12</th>\n",
       "      <td>Lamar Corner Store</td>\n",
       "      <td>1.890000</td>\n",
       "      <td>37396.000000</td>\n",
       "      <td>2.000000</td>\n",
       "    </tr>\n",
       "    <tr>\n",
       "      <th>13</th>\n",
       "      <td>Major Brand Gas</td>\n",
       "      <td>1.790000</td>\n",
       "      <td>60856.000000</td>\n",
       "      <td>4.000000</td>\n",
       "    </tr>\n",
       "    <tr>\n",
       "      <th>14</th>\n",
       "      <td>Mobil</td>\n",
       "      <td>1.865000</td>\n",
       "      <td>47460.500000</td>\n",
       "      <td>12.000000</td>\n",
       "    </tr>\n",
       "    <tr>\n",
       "      <th>15</th>\n",
       "      <td>Phillips 66</td>\n",
       "      <td>1.890000</td>\n",
       "      <td>59796.500000</td>\n",
       "      <td>7.000000</td>\n",
       "    </tr>\n",
       "    <tr>\n",
       "      <th>16</th>\n",
       "      <td>Shell</td>\n",
       "      <td>1.883793</td>\n",
       "      <td>62972.793103</td>\n",
       "      <td>6.482759</td>\n",
       "    </tr>\n",
       "    <tr>\n",
       "      <th>17</th>\n",
       "      <td>Signature Fuels</td>\n",
       "      <td>1.795000</td>\n",
       "      <td>61200.500000</td>\n",
       "      <td>5.000000</td>\n",
       "    </tr>\n",
       "    <tr>\n",
       "      <th>18</th>\n",
       "      <td>Texaco</td>\n",
       "      <td>1.912000</td>\n",
       "      <td>75105.800000</td>\n",
       "      <td>5.600000</td>\n",
       "    </tr>\n",
       "    <tr>\n",
       "      <th>19</th>\n",
       "      <td>Valero</td>\n",
       "      <td>1.891429</td>\n",
       "      <td>49049.000000</td>\n",
       "      <td>6.285714</td>\n",
       "    </tr>\n",
       "  </tbody>\n",
       "</table>\n",
       "</div>"
      ],
      "text/plain": [
       "                       Name  Avg_Price    Avg_Income  Avg_Pumps\n",
       "0                  7-Eleven   1.887778  53432.333333   4.666667\n",
       "1   Around the Corner Store   1.940000  63750.000000   2.000000\n",
       "2                   Chevron   1.871818  61754.636364   8.727273\n",
       "3                     Citgo   1.835000  49387.000000   4.000000\n",
       "4                    Conoco   1.890000  43545.500000   4.000000\n",
       "5                    Costco   1.730000  70095.000000  12.000000\n",
       "6          Double R Grocery   1.790000  37690.000000   4.000000\n",
       "7          East 1st Grocery   1.770000  37690.000000   4.000000\n",
       "8                     Exxon   1.855000  52344.333333  11.500000\n",
       "9                      Gulf   1.788571  50084.142857   5.714286\n",
       "10                 HEB Fuel   1.790000  36903.500000  11.000000\n",
       "11              Kool Corner   1.790000  42615.000000   4.000000\n",
       "12       Lamar Corner Store   1.890000  37396.000000   2.000000\n",
       "13          Major Brand Gas   1.790000  60856.000000   4.000000\n",
       "14                    Mobil   1.865000  47460.500000  12.000000\n",
       "15              Phillips 66   1.890000  59796.500000   7.000000\n",
       "16                    Shell   1.883793  62972.793103   6.482759\n",
       "17          Signature Fuels   1.795000  61200.500000   5.000000\n",
       "18                   Texaco   1.912000  75105.800000   5.600000\n",
       "19                   Valero   1.891429  49049.000000   6.285714"
      ]
     },
     "execution_count": 4,
     "metadata": {},
     "output_type": "execute_result"
    }
   ],
   "source": [
    "grouped_df = gasprices.groupby('Name').agg(\n",
    "     Avg_Price = ('Price', 'mean'),\n",
    "     Avg_Income = ('Income', 'mean'),\n",
    "     Avg_Pumps = ('Pumps', 'mean')\n",
    ").reset_index()\n",
    "\n",
    "grouped_df"
   ]
  },
  {
   "cell_type": "code",
   "execution_count": 5,
   "id": "c0c3aabd-f558-4ae2-9824-23989daf872f",
   "metadata": {},
   "outputs": [
    {
     "data": {
      "image/png": "[encoded data removed]",
      "text/plain": [
       "<Figure size 1000x500 with 3 Axes>"
      ]
     },
     "metadata": {},
     "output_type": "display_data"
    }
   ],
   "source": [
    "fig = plt.figure(figsize = (10,5))\n",
    "axs = fig.subplots(1, 3)\n",
    "\n",
    "data_columns = ['Price', 'Income', 'Pumps']\n",
    "for i, data in enumerate(data_columns):\n",
    "     axs[i].set_title(data)\n",
    "     axs[i].boxplot(gasprices[data], showmeans = True)\n",
    "     axs[i].grid()\n",
    "    \n",
    "plt.tight_layout()\n",
    "plt.show()"
   ]
  },
  {
   "cell_type": "markdown",
   "id": "7652ee18-2864-4cfd-b786-ee5f4f9ea34f",
   "metadata": {},
   "source": [
    "<p>To plot our prediction line between income and price, we can utilize our leanSimpleRegression() and\n",
    "predictSimpleRegression() functions from the previous exercise.</p>"
   ]
  },
  {
   "cell_type": "code",
   "execution_count": 6,
   "id": "58358ad9-4071-405e-ae71-e0da4a64f4cb",
   "metadata": {},
   "outputs": [],
   "source": [
    "def learn_simple_linear_reg(x, y):\n",
    "    x_mean = x.mean()\n",
    "    y_mean = y.mean()\n",
    "\n",
    "    beta_1 = np.sum((x - x_mean) * (y - y_mean)) / np.sum((x - x_mean)**2)\n",
    "    beta_0 = y_mean - beta_1 * x_mean\n",
    "\n",
    "    return beta_0, beta_1\n",
    "\n",
    "def predict_simple_linear_reg(x, beta_0, beta_1):\n",
    "    y_hat = beta_0 + beta_1 * x\n",
    "    return y_hat"
   ]
  },
  {
   "cell_type": "code",
   "execution_count": 7,
   "id": "423caa9d-19f5-4563-be7f-de5acf4d19e6",
   "metadata": {},
   "outputs": [
    {
     "data": {
      "image/png": "[encoded data removed]",
      "text/plain": [
       "<Figure size 1200x600 with 1 Axes>"
      ]
     },
     "metadata": {},
     "output_type": "display_data"
    }
   ],
   "source": [
    "beta_0, beta_1 = learn_simple_linear_reg(gasprices['Income'], gasprices['Price'])\n",
    "y_prediction = predict_simple_linear_reg(gasprices['Income'], beta_0, beta_1)\n",
    "\n",
    "plt.figure(figsize = (12,6))\n",
    "plt.scatter(gasprices['Income'], gasprices['Price'], color = 'blue', label = 'Data Points')\n",
    "plt.plot(gasprices['Income'], y_prediction, color = 'red', label = 'Prediction Line')\n",
    "plt.xlabel('Income')\n",
    "plt.ylabel('Price')\n",
    "plt.legend()\n",
    "plt.show()"
   ]
  },
  {
   "cell_type": "markdown",
   "id": "f0a76b64-c3b3-4f21-b2db-12a1da496ba4",
   "metadata": {},
   "source": [
    "<p>Now we will normalize our data:</p>\n",
    "$$X' = \\frac{X - min(X)}{max(X) - min(X)}$$"
   ]
  },
  {
   "cell_type": "code",
   "execution_count": 8,
   "id": "964317ff-840d-4a64-91ce-e0da10c66d72",
   "metadata": {},
   "outputs": [],
   "source": [
    "def normalize(data):\n",
    "    return (data - np.min(data)) / (np.max(data) - np.min(data))"
   ]
  },
  {
   "cell_type": "code",
   "execution_count": 9,
   "id": "0a1847be-e95d-4b95-ba1b-8558960ca50c",
   "metadata": {},
   "outputs": [
    {
     "data": {
      "image/png": "[encoded data removed]",
      "text/plain": [
       "<Figure size 1200x600 with 1 Axes>"
      ]
     },
     "metadata": {},
     "output_type": "display_data"
    }
   ],
   "source": [
    "beta_0, beta_1 = learn_simple_linear_reg(normalize(gasprices['Income']), gasprices['Price'])\n",
    "y_prediction = predict_simple_linear_reg(normalize(gasprices['Income']), beta_0, beta_1)\n",
    "\n",
    "plt.figure(figsize = (12,6))\n",
    "plt.scatter(normalize(gasprices['Income']), gasprices['Price'], color = 'blue', label = 'Data Points')\n",
    "plt.plot(normalize(gasprices['Income']), y_prediction, color = 'red', label = 'Prediction Line')\n",
    "plt.xlabel('Income')\n",
    "plt.ylabel('Price')\n",
    "plt.legend()\n",
    "plt.show()"
   ]
  },
  {
   "cell_type": "markdown",
   "id": "59879abe-2d6d-467c-ac17-07934222b6ed",
   "metadata": {},
   "source": [
    "<p>To facilitate comparison between the two plots, we will display them side by side:</p>"
   ]
  },
  {
   "cell_type": "code",
   "execution_count": 10,
   "id": "3699da2c-6d7a-42bd-bd7c-c6b1471ea808",
   "metadata": {},
   "outputs": [
    {
     "data": {
      "image/png": "[encoded data removed]",
      "text/plain": [
       "<Figure size 2000x500 with 2 Axes>"
      ]
     },
     "metadata": {},
     "output_type": "display_data"
    }
   ],
   "source": [
    "plt.figure(figsize=(20, 5))\n",
    "normalizations = [None, normalize]\n",
    "titles = ['Without Normalization', 'With Normalization (Income)']\n",
    "for i, (norm, title) in enumerate(zip(normalizations, titles), start=1):\n",
    "\n",
    "    # Apply normalization\n",
    "     income = gasprices['Income'] if norm is None else normalize(gasprices['Income'])\n",
    "\n",
    "     beta_0, beta_1 = learn_simple_linear_reg(income, gasprices['Price'])\n",
    "     y_prediction = predict_simple_linear_reg(income, beta_0, beta_1)\n",
    "\n",
    "     plt.subplot(1, 3, i)\n",
    "     plt.scatter(income, gasprices['Price'], color = 'blue', label = 'Data Points')\n",
    "     plt.plot(income, y_prediction, color = 'red', label = 'Prediction Line')\n",
    "     plt.title(title)\n",
    "     plt.xlabel('Income')\n",
    "     plt.ylabel('Price')\n",
    "     plt.legend()\n",
    "    \n",
    "plt.tight_layout()\n",
    "plt.show()"
   ]
  },
  {
   "cell_type": "markdown",
   "id": "ae734276-bddb-4ade-84cd-9c63014c328a",
   "metadata": {},
   "source": [
    "<p>By rescaling income to a [0, 1] range, normalization removes the effect of magnitude differences between\n",
    "income and price. In this case, normalization doesn’t significantly change the visual appearance of the data distribution or the relationship between income and price.</p>"
   ]
  },
  {
   "cell_type": "markdown",
   "id": "f5bccb0c-5246-4065-b29d-55f622e43f4c",
   "metadata": {},
   "source": [
    "<h3>Question 2 - Linear Regression via Normal Equations</h3>"
   ]
  },
  {
   "cell_type": "markdown",
   "id": "c8d5e9e8-582e-4173-9b2b-b797ca95ca41",
   "metadata": {},
   "source": [
    "<p>In this exercise, you will implement (multiple) linear regression using Normal Equations. The learning\n",
    "algorithm is below.</p>\n",
    "<ul>\n",
    "    <li>Reuse the Gasprices.csv dataset. Load it as Xdata.</li>\n",
    "    <li>Choose columns that help with prediction (i.e., contain useful information). Drop irrelevant\n",
    "columns, and explain your reasoning for choosing or dropping any column.</li>\n",
    "    <li>Split your dataset Xdata, Ydata into Xtrain, Ytrain, and Xtest, Ytest (randomly assign 80%\n",
    "to Xtrain, Ytrain and the remaining 20% to Xtest, ytest).</li>\n",
    "    <li>Implement the learn-linreg-NormEq algorithm and learn a parameter vector β using the Xtrain\n",
    "set. You need to learn a model to predict the sales price of houses, i.e., ytest.</li>\n",
    "    <li>Line 6 of the learn-linreg-NormEq algorithm uses SOLVE-SLE. You must replace SOLVE-SLE\n",
    "with the following options (implement this yourself):\n",
    "        <ul>\n",
    "            <li>Gaussian elimination</li>\n",
    "            <li>Cholesky decomposition</li>\n",
    "            <li>QR decomposition</li>\n",
    "        </ul>\n",
    "    </li>\n",
    "    <li>Perform predictions $\\hat{y}$ on the test dataset Xtest using the parameters learned in steps 5 and 6.\n",
    "[Hint: You will have three different prediction models based on the replacement function from step\n",
    "6.]</li>\n",
    "    <li> The final step is to find how close these three models are to the original values.\n",
    "        <ul>\n",
    "            <li>Plot the residual $\\epsilon = |y_{test} - \\hat{y}|$ versus the true value of ytest for each model.</li>\n",
    "            <li>Find the average residual $\\epsilon = |y_{test} - \\hat{y}|$ for each model</li>\n",
    "            <li>Compute the root-mean-square error (RMSE) as follows\n",
    "                $$RMSE = \\sqrt{\\frac{\\sum_{n=1}^{N} (y_{test}(n) - \\hat{y}(n))^2}{N}}$$\n",
    "for each model.</li>\n",
    "        </ul>\n",
    "    </li>\n",
    "</ul>"
   ]
  },
  {
   "cell_type": "markdown",
   "id": "a1fb88bb-9754-4f89-8e72-25cfb15cb5c1",
   "metadata": {},
   "source": [
    "<h4>Task 2.1</h4>\n",
    "<p>Reuse the Gasprices.csv dataset. Load it as Xdata.</p>\n",
    "<h4>Solution</h4>"
   ]
  },
  {
   "cell_type": "code",
   "execution_count": 11,
   "id": "9258aa18-ef0c-4bc5-bc99-3930598207c5",
   "metadata": {},
   "outputs": [],
   "source": [
    "Xdata = pd.read_csv('res/gasprices.csv')"
   ]
  },
  {
   "cell_type": "markdown",
   "id": "bd993bf1-c0de-44b3-a2ed-c70c75ff1d52",
   "metadata": {},
   "source": [
    "<h4>Task 2.2</h4>\n",
    "<p>Choose columns that help with prediction (i.e., contain useful information). Drop irrelevant\n",
    "columns, and explain your reasoning for choosing or dropping any column.</p>\n",
    "<h4>Solution</h4>"
   ]
  },
  {
   "cell_type": "markdown",
   "id": "5771ff3d-0b98-4743-b11b-d672f8b47265",
   "metadata": {},
   "source": [
    "As demonstrated in Task 1, we initially predicted the gas price using only income as the independent variable.\n",
    "Now, we aim to enhance our prediction accuracy by incorporating additional variables. Once again, let's\n",
    "review our data to determine which information we should use:"
   ]
  },
  {
   "cell_type": "code",
   "execution_count": 12,
   "id": "8dbbb5a6-81a1-432f-a122-ef3a092acc0f",
   "metadata": {},
   "outputs": [
    {
     "name": "stdout",
     "output_type": "stream",
     "text": [
      "<class 'pandas.core.frame.DataFrame'>\n",
      "RangeIndex: 101 entries, 0 to 100\n",
      "Data columns (total 18 columns):\n",
      " #   Column                 Non-Null Count  Dtype  \n",
      "---  ------                 --------------  -----  \n",
      " 0   Unnamed: 0             101 non-null    int64  \n",
      " 1   ID                     101 non-null    int64  \n",
      " 2   Name                   101 non-null    object \n",
      " 3   Price                  101 non-null    float64\n",
      " 4   Pumps                  101 non-null    int64  \n",
      " 5   Interior               101 non-null    object \n",
      " 6   Restaurant             101 non-null    object \n",
      " 7   CarWash                101 non-null    object \n",
      " 8   Highway                101 non-null    object \n",
      " 9   Intersection           101 non-null    object \n",
      " 10  Stoplight              101 non-null    object \n",
      " 11  IntersectionStoplight  94 non-null     object \n",
      " 12  Gasolines              101 non-null    int64  \n",
      " 13  Competitors            101 non-null    object \n",
      " 14  Zipcode                101 non-null    int64  \n",
      " 15  Address                101 non-null    object \n",
      " 16  Income                 101 non-null    int64  \n",
      " 17  Brand                  101 non-null    object \n",
      "dtypes: float64(1), int64(6), object(11)\n",
      "memory usage: 14.3+ KB\n"
     ]
    }
   ],
   "source": [
    "Xdata.info()"
   ]
  },
  {
   "cell_type": "markdown",
   "id": "bec628d6-5ab3-41ff-ae66-6d9a355c1a68",
   "metadata": {},
   "source": [
    "<strong>Columns to keep:<strong>\n",
    "<ul>\n",
    "    <li>Income: According to the definition of income from the data set source\n",
    "(https://github.com/jgscott/learnR/blob/master/cases/gasprices/gasprices.md), it is the median\n",
    "household income of the zip code where the gas station is located.</li>\n",
    "    <li>Pumps: The number of pumps indicates the capacity of a gas station to serve customers simultaneously,\n",
    "which directly impacts income and gas price.</li>\n",
    "    <li>Interior: A well-designed interior could attract and appeal to customers.</li>\n",
    "    <li>Restaurant: Having a restaurant could attract and appeal to customers.</li>\n",
    "    <li>CarWash: A car wash could attract and appeal to customers, too, particularly since most customers arrive\n",
    "by car.</li>\n",
    "    <li>Highway: Gas stations located on the highway tend to attract more customers.</li>\n",
    "    <li>Intersection: Gas stations located at intersections tend to attract more customers</li>\n",
    "    <li>Stoplight: If a gas station is close to a stoplight, it might encourage people waiting to stop by.</li>\n",
    "    <li>Gasolines: The variety of gasoline types offered is a key factor for customer attraction.</li>\n",
    "    <li>Competitors: The number of competitors also influences gas prices.</li>\n",
    "    <li>Price: This is what we want to predict.</li>\n",
    "</ul>\n",
    "\n",
    "<strong>Columns to drop:</strong>\n",
    "<ul>\n",
    "    <li>\"Unnamed: 0\": This is only a column for identification and is not important for the prediction.</li>\n",
    "    <li>ID: This is only a column for identification and is not important for the prediction.</li>\n",
    "    <li>Name: The name of a gas station generally does not affect the gas prices.</li>\n",
    "    <li>IntersectionStoplight: Since we already keep “Intersection” and “Stoplight”, we leave out this column\n",
    "(behaves like the logical AND).</li>\n",
    "    <li>Zipcode: As we already have “Income” (the median household income of the zip code in which the petrol\n",
    "station is located) in our dataset, we no longer need this entry.</li>\n",
    "    <li>Address: As we already have “Income” (the median household income of the zip code in which the petrol\n",
    "station is located) in our dataset, we no longer need this entry.</li>\n",
    "    <li>Brand: The Brand of a gas station could affect its gas prices slightly but generally not.</li>\n",
    "</ul>"
   ]
  },
  {
   "cell_type": "code",
   "execution_count": 13,
   "id": "b9c6c2bc-e15a-4c4f-8ec9-316138e08591",
   "metadata": {},
   "outputs": [],
   "source": [
    "Xdata = Xdata.drop(columns = ['Unnamed: 0', 'ID', 'Name', 'IntersectionStoplight', 'Zipcode', 'Address', 'Brand'])"
   ]
  },
  {
   "cell_type": "markdown",
   "id": "16d5cb10-7b54-4216-8752-75fd66400b98",
   "metadata": {},
   "source": [
    "<p>In order to perform the regression later, we now have to transform the bool columns of our selected data\n",
    "into 1 and 0:</p>"
   ]
  },
  {
   "cell_type": "code",
   "execution_count": 14,
   "id": "a74e75b9-76f9-43b1-ac1c-be74c0fd861f",
   "metadata": {},
   "outputs": [],
   "source": [
    "bool_columns = ['Interior', 'Restaurant', 'CarWash', 'Highway', 'Intersection', 'Stoplight', 'Competitors']\n",
    "\n",
    "for column in bool_columns:\n",
    "    Xdata[column] = Xdata[column].map({'Y': 1, 'N': 0})"
   ]
  },
  {
   "cell_type": "markdown",
   "id": "67fb7c68-8998-4f8d-b6d2-0c9bce8bb728",
   "metadata": {},
   "source": [
    "<h4>Task 2.3</h4>\n",
    "<p>Split your dataset Xdata, Ydata into Xtrain, Ytrain, and Xtest, Ytest (randomly assign 80% to Xtrain, Ytrain and the remaining 20% to Xtest, ytest).</p>\n",
    "<h4>Solution</h4>\n",
    "<p>Since we are not allowed to use a machine learning library, we have to do the random splitting, testing and\n",
    "training of the data ourselves. We first start by shuffling our data:</p>"
   ]
  },
  {
   "cell_type": "code",
   "execution_count": 15,
   "id": "14524358-bdba-4b3b-8172-5ac9a48a0a4d",
   "metadata": {},
   "outputs": [],
   "source": [
    "Xdata = Xdata.sample(frac = 1)"
   ]
  },
  {
   "cell_type": "markdown",
   "id": "e73d07a4-37eb-47a9-b438-38b9ffecdfb1",
   "metadata": {},
   "source": [
    "<p>Now we can separate our data. Since we want to predict the income at the end, we remove the price column\n",
    "from Xdata:</p>"
   ]
  },
  {
   "cell_type": "code",
   "execution_count": 16,
   "id": "075561df-f153-4f5e-bb48-43f9d2b98d29",
   "metadata": {},
   "outputs": [],
   "source": [
    "Ydata = Xdata['Price']\n",
    "Xdata = Xdata.drop('Price', axis = 1)"
   ]
  },
  {
   "cell_type": "code",
   "execution_count": 17,
   "id": "f24131c5-c716-4773-b011-9845f64df9f2",
   "metadata": {},
   "outputs": [],
   "source": [
    "partition = int(len(Xdata) * 0.8)\n",
    "\n",
    "# 80%\n",
    "Xtrain, Ytrain = Xdata[:partition].to_numpy(), Ydata[:partition].to_numpy()\n",
    "\n",
    "# 20%\n",
    "Xtest, Ytest = Xdata[partition:].to_numpy(), Ydata[partition:].to_numpy()"
   ]
  },
  {
   "cell_type": "markdown",
   "id": "ef55bc54-dcb7-4496-8444-bc016879b122",
   "metadata": {},
   "source": [
    "<h4>Task 2.4</h4>\n",
    "<p>Implement the learn-linreg-NormEq algorithm and learn a parameter vector β using the Xtrain\n",
    "set. You need to learn a model to predict the sales price of houses, i.e., ytest.</p>\n",
    "<h4>Solution</h4>"
   ]
  },
  {
   "cell_type": "markdown",
   "id": "bf6eaf5c-27fe-4bb7-b67c-5bf583b2b649",
   "metadata": {},
   "source": [
    "<img src = \"res/Learn LinReg NormEq Algorithm.png\">"
   ]
  },
  {
   "cell_type": "markdown",
   "id": "ff4fb245-765d-4a7c-a8b2-88a44f4e02af",
   "metadata": {},
   "source": [
    "<p>Our method includes the “method” parameter. This is for later tasks. We also need to give our data a column\n",
    "of ones:</p>"
   ]
  },
  {
   "cell_type": "code",
   "execution_count": 18,
   "id": "87151ba5-210e-47ee-ba9d-de319b14f70b",
   "metadata": {},
   "outputs": [],
   "source": [
    "def learnLinRegNormEq(x, y, method):\n",
    "    x0 = np.ones((len(x),1))\n",
    "    \n",
    "    X = np.hstack((x0, x))\n",
    "    Y = y\n",
    "\n",
    "    A = X.T @ X\n",
    "    b = X.T @ y\n",
    "\n",
    "    beta_hat = SOLVE_SLE(A, b, method)\n",
    "    return beta_hat[0], beta_hat[1:]"
   ]
  },
  {
   "cell_type": "markdown",
   "id": "2bdb3b19-ab19-4da8-8556-74c4d318c3fc",
   "metadata": {},
   "source": [
    "<h4>Task 2.5</h4>\n",
    "<p>Line 6 of the learn-linreg-NormEq algorithm uses SOLVE-SLE. You must replace SOLVE-SLE\n",
    "with the following options (implement this yourself)</p>\n",
    "<h4>Solution</h4>"
   ]
  },
  {
   "cell_type": "markdown",
   "id": "d084b029-b5f7-4eb3-b7ff-1f7bc6078fac",
   "metadata": {},
   "source": [
    "<h4>Gaussian elimination</h4>"
   ]
  },
  {
   "cell_type": "code",
   "execution_count": 19,
   "id": "2d9a217a-57fa-4c0d-a709-5bb8a98cde32",
   "metadata": {},
   "outputs": [],
   "source": [
    "# https://www.mycompiler.io/view/KWZrmHlI8yq\n",
    "\n",
    "def gaussian_elimination(A, b):\n",
    "    n = len(b)\n",
    "    \n",
    "    for k in range(n - 1):\n",
    "        for i in range(k + 1, n):\n",
    "            factor = A[i, k] / A[k, k]\n",
    "            b[i] = b[i] - factor * b[k]\n",
    "            for j in range(k, n):\n",
    "                A[i, j] = A[i, j] - factor * A[k, j]\n",
    "                \n",
    "    beta_hat = np.zeros(n)\n",
    "    beta_hat[n-1] = b[n - 1] / A[n - 1, n - 1]\n",
    "    for i in range(n - 2, -1, -1):\n",
    "        sum = b[i]\n",
    "        for j in range(i + 1, n):\n",
    "            sum = sum - A[i, j] * beta_hat[j]\n",
    "        beta_hat[i] = sum / A[i, i]\n",
    "        \n",
    "    return beta_hat"
   ]
  },
  {
   "cell_type": "markdown",
   "id": "aead6176-1d1a-454e-af51-6b03d87bd7fb",
   "metadata": {},
   "source": [
    "<h4>Cholesky Decomposition</h4>"
   ]
  },
  {
   "cell_type": "code",
   "execution_count": 20,
   "id": "2ef4550f-f742-4ef8-8c72-836f0b1b178c",
   "metadata": {},
   "outputs": [],
   "source": [
    "# https://numpy.org/doc/1.25/reference/generated/numpy.linalg.c\n",
    "\n",
    "def cholesky_decomposition(A, b):\n",
    "    L = np.linalg.cholesky(A)\n",
    "    y = np.linalg.solve(L, b)\n",
    "    beta_hat = np.linalg.solve(L.T, y)\n",
    "    return beta_hat"
   ]
  },
  {
   "cell_type": "markdown",
   "id": "e1a5e7d4-eaa9-4974-81d0-d50f03a7b78f",
   "metadata": {},
   "source": [
    "<h4>QR Decomposition</h4>"
   ]
  },
  {
   "cell_type": "code",
   "execution_count": 21,
   "id": "92ce0052-a641-4892-a8c6-a8cd8bc47b9f",
   "metadata": {},
   "outputs": [],
   "source": [
    "# https://numpy.org/doc/stable/reference/generated/numpy.linalg.qr.ht\n",
    "\n",
    "def qr_decomposition(A, b):\n",
    "    Q, R = np.linalg.qr(A)\n",
    "    p = np.dot(Q.T, b)\n",
    "    beta_hat = np.dot(np.linalg.inv(R), p)\n",
    "    return beta_hat"
   ]
  },
  {
   "cell_type": "markdown",
   "id": "779ed389-9ef5-4140-bfe3-77ba6141ca2f",
   "metadata": {},
   "source": [
    "<h4>SOLVE_SLE</h4>"
   ]
  },
  {
   "cell_type": "code",
   "execution_count": 22,
   "id": "e84682f0-eb3f-4309-91f9-beff2762dae6",
   "metadata": {},
   "outputs": [],
   "source": [
    "def SOLVE_SLE(A, b, method):\n",
    "    if method == 1:\n",
    "        return gaussian_elimination(A, b)\n",
    "    if method == 2:\n",
    "        return cholesky_decomposition(A, b)\n",
    "    if method == 3:\n",
    "        return qr_decomposition(A, b)"
   ]
  },
  {
   "cell_type": "markdown",
   "id": "1ef16ab5-c55f-433c-a0bd-a36bd38a9f8d",
   "metadata": {},
   "source": [
    "<h4>Task 2.6</h4>\n",
    "<p>Perform predictions $\\hat{y}$ on the test dataset Xtest using the parameters learned in steps 5 and 6.\n",
    "[Hint: You will have three different prediction models based on the replacement function from step\n",
    "6.]</p>\n",
    "<h4>Solution</h4>"
   ]
  },
  {
   "cell_type": "code",
   "execution_count": 23,
   "id": "4821ac65-5971-4f8e-bd42-19121f611846",
   "metadata": {},
   "outputs": [],
   "source": [
    "X0 = np.ones((len(Xtest)))\n",
    "\n",
    "# Gaussian elimination method\n",
    "beta_0, beta_1 = learnLinRegNormEq(Xtrain, Ytrain, 1)\n",
    "y_prediction_1 = X0 * beta_0 + Xtest @ beta_1\n",
    "\n",
    "# Cholesky decomposition method\n",
    "beta_0, beta_1 = learnLinRegNormEq(Xtrain, Ytrain, 2)\n",
    "y_prediction_2 = X0 * beta_0 + Xtest @ beta_1\n",
    "\n",
    "# QR decomposition method\n",
    "beta_0, beta_1 = learnLinRegNormEq(Xtrain, Ytrain, 3)\n",
    "y_prediction_3 = X0 * beta_0 + Xtest @ beta_1"
   ]
  },
  {
   "cell_type": "markdown",
   "id": "e6ff581f-9651-440a-ba2b-d90e5aa59d6a",
   "metadata": {},
   "source": [
    "<h4>Task 2.7.1</h4>\n",
    "<p>Plot the residual $\\epsilon = |y_{test} - \\hat{y}|$ versus the true value of ytest for each model.</p>\n",
    "<h4>Solution</h4>"
   ]
  },
  {
   "cell_type": "code",
   "execution_count": 24,
   "id": "b9b0fa58-d4df-41bc-a19b-05d93f13906c",
   "metadata": {},
   "outputs": [],
   "source": [
    "def residual(y_test, y_prediction):\n",
    "    return abs(y_test - y_prediction)"
   ]
  },
  {
   "cell_type": "code",
   "execution_count": 25,
   "id": "0e94dc65-eff9-4952-a688-c2293b24eab9",
   "metadata": {},
   "outputs": [],
   "source": [
    "residual_1 = residual(Ytest, y_prediction_1)\n",
    "residual_2 = residual(Ytest, y_prediction_2)\n",
    "residual_3 = residual(Ytest, y_prediction_3)"
   ]
  },
  {
   "cell_type": "markdown",
   "id": "011dc083-101c-4be2-a8af-8e8b8ef5e485",
   "metadata": {},
   "source": [
    "<p>Now we can plot the residual against the true y values for each method:</p>"
   ]
  },
  {
   "cell_type": "code",
   "execution_count": 26,
   "id": "a32696a9-bc6f-4ecc-8c2f-22079977062f",
   "metadata": {},
   "outputs": [
    {
     "data": {
      "image/png": "[encoded data removed]",
      "text/plain": [
       "<Figure size 1500x500 with 3 Axes>"
      ]
     },
     "metadata": {},
     "output_type": "display_data"
    }
   ],
   "source": [
    "residuals = [residual_1, residual_2, residual_3]\n",
    "labels = ['residual_1 (Gauss elimination)', 'residual_2 (Cholesky decomposition)', 'residual_3 (QR decomposition)']\n",
    "\n",
    "plt.figure(figsize = (15,5))\n",
    "for i, (residual, label) in enumerate(zip(residuals, labels), start = 1):\n",
    "    plt.subplot(1, 3, i)\n",
    "    plt.scatter(Ytest, residual)\n",
    "    plt.ylabel(label)\n",
    "    plt.xlabel('Ytest')\n",
    "    plt.title(f'Scatter Plot of {label}')\n",
    "    plt.grid()\n",
    "    \n",
    "plt.tight_layout()\n",
    "plt.show()"
   ]
  },
  {
   "cell_type": "markdown",
   "id": "399177e7-eb34-403b-b105-d5bcebeae713",
   "metadata": {},
   "source": [
    "<h4>Task 2.7.2</h4>\n",
    "<p>Find the average residual $\\epsilon = |y_{test} - \\hat{y}|$ for each model</p>\n",
    "<h4>Solution</h4>"
   ]
  },
  {
   "cell_type": "code",
   "execution_count": 27,
   "id": "383faf90-3372-4895-87fd-a7e396ef80e4",
   "metadata": {},
   "outputs": [
    {
     "name": "stdout",
     "output_type": "stream",
     "text": [
      "Average of residual_1: 0.051890421748097104\n",
      "Average of residual_2: 0.051890421748097514\n",
      "Average of residual_3: 0.05189042179764075\n"
     ]
    }
   ],
   "source": [
    "residuals = [residual_1, residual_2, residual_3]\n",
    "\n",
    "for i, residual in enumerate(residuals):\n",
    "    print(f'Average of residual_{i + 1}: {residual.mean()}')"
   ]
  },
  {
   "cell_type": "markdown",
   "id": "2ef0f89e-107b-4712-8df3-269fa6c057f9",
   "metadata": {},
   "source": [
    "<h4>Task 2.7.3</h4>\n",
    "<p>Compute the root-mean-square error (RMSE) as follows\n",
    "                $RMSE = \\sqrt{\\frac{\\sum_{n=1}^{N} (y_{test}(n) - \\hat{y}(n))^2}{N}}$\n",
    "for each model.</p>\n",
    "<h4>Solution</h4>"
   ]
  },
  {
   "cell_type": "code",
   "execution_count": 28,
   "id": "1ba69d2c-18e9-4c3d-96f1-6d58d686649f",
   "metadata": {},
   "outputs": [],
   "source": [
    "def RMSE(y_test, y_prediction):\n",
    "    rmse = np.sqrt(np.mean((y_test - y_prediction) ** 2))\n",
    "    return rmse"
   ]
  },
  {
   "cell_type": "code",
   "execution_count": 29,
   "id": "591eed32-4345-4928-9d69-1e2015420dca",
   "metadata": {},
   "outputs": [
    {
     "name": "stdout",
     "output_type": "stream",
     "text": [
      "RSME using y_prediction_1: 0.05907442772779487\n",
      "RSME using y_prediction_2: 0.05907442772779434\n",
      "RSME using y_prediction_3: 0.05907442773323893\n"
     ]
    }
   ],
   "source": [
    "y_predictions = [y_prediction_1, y_prediction_2, y_prediction_3]\n",
    "\n",
    "for i, y_prediction in enumerate(y_predictions):\n",
    "    print(f'RSME using y_prediction_{i + 1}: {RMSE(Ytest, y_prediction)}')"
   ]
  }
 ],
 "metadata": {
  "kernelspec": {
   "display_name": "Python 3 (ipykernel)",
   "language": "python",
   "name": "python3"
  },
  "language_info": {
   "codemirror_mode": {
    "name": "ipython",
    "version": 3
   },
   "file_extension": ".py",
   "mimetype": "text/x-python",
   "name": "python",
   "nbconvert_exporter": "python",
   "pygments_lexer": "ipython3",
   "version": "3.13.0"
  }
 },
 "nbformat": 4,
 "nbformat_minor": 5
}
