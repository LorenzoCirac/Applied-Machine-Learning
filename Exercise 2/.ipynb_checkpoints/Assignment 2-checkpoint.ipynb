{
 "cells": [
  {
   "cell_type": "markdown",
   "id": "177882f2-d560-4090-8b12-61393de84e7f",
   "metadata": {},
   "source": [
    "<h2><center>Applied Machine Learning - Assignment 2</center></h2>\n",
    "<h4><center>Lorenzo Cirac Monteagduo</center></h4>"
   ]
  },
  {
   "cell_type": "code",
   "execution_count": 1,
   "id": "8ad911ec-2540-401b-8b9a-2b9559c1050e",
   "metadata": {},
   "outputs": [],
   "source": [
    "import pandas as pd\n",
    "import matplotlib.pyplot as plt\n",
    "import numpy as np"
   ]
  },
  {
   "cell_type": "markdown",
   "id": "14642c48-6683-40e8-b5ff-da6cb377f226",
   "metadata": {},
   "source": [
    "<h3>Question 1: Pandas</h3>"
   ]
  },
  {
   "cell_type": "markdown",
   "id": "94ae8093-3b65-43bd-88cc-2e8ec50e50a8",
   "metadata": {},
   "source": [
    "<h4>Dataset Exploration</h4>\n",
    "<p>Download Gasprices.csv. This dataset contains information about the\n",
    "sales of gas stations across a city along with other attributes. You will analyze this dataset using\n",
    "pandas library and plot some interesting information using the matplotlib library.</p>\n",
    "<ul>\n",
    "    <li>Load the data using pandas</li>\n",
    "    <li>Summarize each NUMERIC field</li>\n",
    "    <li>Group data by the field Name: <ul>\n",
    "            <li>Find the average price, average income, and average number of pumps for each group.</li>\n",
    "            <li>Use a boxplot that visualizes the statistical information about (price, pumps, gasoline).</li>\n",
    "            <li>Use the Price and Income features to plot a prediction line similar to the first exercise.\n",
    "Normalize the Income (implement this yourself) and plot the line again. Comment on\n",
    "the difference between the two plots.</li>\n",
    "        </ul>\n",
    "    </li>\n",
    "</ul>"
   ]
  },
  {
   "cell_type": "markdown",
   "id": "7979f8bf-6c9d-4fa4-81c4-2519292f6ffd",
   "metadata": {},
   "source": [
    "<h4>Solution</h4>\n",
    "<p>Let's begin with loading in gasprices.csv in a pandas dataframe. To summarize each numeric field in the data, such as the mean, standard deviation, and other statistics, we can use the pandas.describe() function. This will provide information about the mean, standard deviation, and other key statistics for each numeric field.</p>"
   ]
  },
  {
   "cell_type": "code",
   "execution_count": 2,
   "id": "d0ebad0c-1f01-472e-866a-ba3323795286",
   "metadata": {},
   "outputs": [
    {
     "name": "stdout",
     "output_type": "stream",
     "text": [
      "<class 'pandas.core.frame.DataFrame'>\n",
      "RangeIndex: 101 entries, 0 to 100\n",
      "Data columns (total 18 columns):\n",
      " #   Column                 Non-Null Count  Dtype  \n",
      "---  ------                 --------------  -----  \n",
      " 0   Unnamed: 0             101 non-null    int64  \n",
      " 1   ID                     101 non-null    int64  \n",
      " 2   Name                   101 non-null    object \n",
      " 3   Price                  101 non-null    float64\n",
      " 4   Pumps                  101 non-null    int64  \n",
      " 5   Interior               101 non-null    object \n",
      " 6   Restaurant             101 non-null    object \n",
      " 7   CarWash                101 non-null    object \n",
      " 8   Highway                101 non-null    object \n",
      " 9   Intersection           101 non-null    object \n",
      " 10  Stoplight              101 non-null    object \n",
      " 11  IntersectionStoplight  94 non-null     object \n",
      " 12  Gasolines              101 non-null    int64  \n",
      " 13  Competitors            101 non-null    object \n",
      " 14  Zipcode                101 non-null    int64  \n",
      " 15  Address                101 non-null    object \n",
      " 16  Income                 101 non-null    int64  \n",
      " 17  Brand                  101 non-null    object \n",
      "dtypes: float64(1), int64(6), object(11)\n",
      "memory usage: 14.3+ KB\n"
     ]
    }
   ],
   "source": [
    "gasprices = pd.read_csv('res/gasprices.csv')\n",
    "\n",
    "gasprices.info()"
   ]
  },
  {
   "cell_type": "code",
   "execution_count": 3,
   "id": "c510590b-44d4-4017-92e0-59c0fb6bb24e",
   "metadata": {},
   "outputs": [
    {
     "data": {
      "text/html": [
       "<div>\n",
       "<style scoped>\n",
       "    .dataframe tbody tr th:only-of-type {\n",
       "        vertical-align: middle;\n",
       "    }\n",
       "\n",
       "    .dataframe tbody tr th {\n",
       "        vertical-align: top;\n",
       "    }\n",
       "\n",
       "    .dataframe thead th {\n",
       "        text-align: right;\n",
       "    }\n",
       "</style>\n",
       "<table border=\"1\" class=\"dataframe\">\n",
       "  <thead>\n",
       "    <tr style=\"text-align: right;\">\n",
       "      <th></th>\n",
       "      <th>Price</th>\n",
       "      <th>Pumps</th>\n",
       "      <th>Gasolines</th>\n",
       "      <th>Income</th>\n",
       "    </tr>\n",
       "  </thead>\n",
       "  <tbody>\n",
       "    <tr>\n",
       "      <th>count</th>\n",
       "      <td>101.000000</td>\n",
       "      <td>101.000000</td>\n",
       "      <td>101.000000</td>\n",
       "      <td>101.000000</td>\n",
       "    </tr>\n",
       "    <tr>\n",
       "      <th>mean</th>\n",
       "      <td>1.864257</td>\n",
       "      <td>6.950495</td>\n",
       "      <td>3.465347</td>\n",
       "      <td>56727.217822</td>\n",
       "    </tr>\n",
       "    <tr>\n",
       "      <th>std</th>\n",
       "      <td>0.081515</td>\n",
       "      <td>3.925242</td>\n",
       "      <td>0.557931</td>\n",
       "      <td>25868.359804</td>\n",
       "    </tr>\n",
       "    <tr>\n",
       "      <th>min</th>\n",
       "      <td>1.730000</td>\n",
       "      <td>2.000000</td>\n",
       "      <td>1.000000</td>\n",
       "      <td>12786.000000</td>\n",
       "    </tr>\n",
       "    <tr>\n",
       "      <th>25%</th>\n",
       "      <td>1.790000</td>\n",
       "      <td>4.000000</td>\n",
       "      <td>3.000000</td>\n",
       "      <td>37690.000000</td>\n",
       "    </tr>\n",
       "    <tr>\n",
       "      <th>50%</th>\n",
       "      <td>1.850000</td>\n",
       "      <td>6.000000</td>\n",
       "      <td>3.000000</td>\n",
       "      <td>52306.000000</td>\n",
       "    </tr>\n",
       "    <tr>\n",
       "      <th>75%</th>\n",
       "      <td>1.920000</td>\n",
       "      <td>8.000000</td>\n",
       "      <td>4.000000</td>\n",
       "      <td>70095.000000</td>\n",
       "    </tr>\n",
       "    <tr>\n",
       "      <th>max</th>\n",
       "      <td>2.090000</td>\n",
       "      <td>24.000000</td>\n",
       "      <td>4.000000</td>\n",
       "      <td>128556.000000</td>\n",
       "    </tr>\n",
       "  </tbody>\n",
       "</table>\n",
       "</div>"
      ],
      "text/plain": [
       "            Price       Pumps   Gasolines         Income\n",
       "count  101.000000  101.000000  101.000000     101.000000\n",
       "mean     1.864257    6.950495    3.465347   56727.217822\n",
       "std      0.081515    3.925242    0.557931   25868.359804\n",
       "min      1.730000    2.000000    1.000000   12786.000000\n",
       "25%      1.790000    4.000000    3.000000   37690.000000\n",
       "50%      1.850000    6.000000    3.000000   52306.000000\n",
       "75%      1.920000    8.000000    4.000000   70095.000000\n",
       "max      2.090000   24.000000    4.000000  128556.000000"
      ]
     },
     "execution_count": 3,
     "metadata": {},
     "output_type": "execute_result"
    }
   ],
   "source": [
    "gasprices[['Price', 'Pumps', 'Gasolines', 'Income']].describe()"
   ]
  },
  {
   "cell_type": "markdown",
   "id": "78739c2a-d02c-4d7b-b202-39a27f8f2755",
   "metadata": {},
   "source": [
    "<p>For this task, we will combine the groupby() function with the agg() function. First, we will group our data by\n",
    "the \"Name\" column. Then, we will use the agg() function to create the columns Avg_Price, Avg_Income, and\n",
    "Avg_Pumps, where we will apply the mean function to each numeric field. In the end, we use the reset_index()\n",
    "function to convert the grouped result back into a DataFrame with a default integer index.</p>"
   ]
  },
  {
   "cell_type": "code",
   "execution_count": 4,
   "id": "9952e59d-d575-42d0-acdb-752bdfc35a63",
   "metadata": {},
   "outputs": [
    {
     "data": {
      "text/html": [
       "<div>\n",
       "<style scoped>\n",
       "    .dataframe tbody tr th:only-of-type {\n",
       "        vertical-align: middle;\n",
       "    }\n",
       "\n",
       "    .dataframe tbody tr th {\n",
       "        vertical-align: top;\n",
       "    }\n",
       "\n",
       "    .dataframe thead th {\n",
       "        text-align: right;\n",
       "    }\n",
       "</style>\n",
       "<table border=\"1\" class=\"dataframe\">\n",
       "  <thead>\n",
       "    <tr style=\"text-align: right;\">\n",
       "      <th></th>\n",
       "      <th>Name</th>\n",
       "      <th>Avg_Price</th>\n",
       "      <th>Avg_Income</th>\n",
       "      <th>Avg_Pumps</th>\n",
       "    </tr>\n",
       "  </thead>\n",
       "  <tbody>\n",
       "    <tr>\n",
       "      <th>0</th>\n",
       "      <td>7-Eleven</td>\n",
       "      <td>1.887778</td>\n",
       "      <td>53432.333333</td>\n",
       "      <td>4.666667</td>\n",
       "    </tr>\n",
       "    <tr>\n",
       "      <th>1</th>\n",
       "      <td>Around the Corner Store</td>\n",
       "      <td>1.940000</td>\n",
       "      <td>63750.000000</td>\n",
       "      <td>2.000000</td>\n",
       "    </tr>\n",
       "    <tr>\n",
       "      <th>2</th>\n",
       "      <td>Chevron</td>\n",
       "      <td>1.871818</td>\n",
       "      <td>61754.636364</td>\n",
       "      <td>8.727273</td>\n",
       "    </tr>\n",
       "    <tr>\n",
       "      <th>3</th>\n",
       "      <td>Citgo</td>\n",
       "      <td>1.835000</td>\n",
       "      <td>49387.000000</td>\n",
       "      <td>4.000000</td>\n",
       "    </tr>\n",
       "    <tr>\n",
       "      <th>4</th>\n",
       "      <td>Conoco</td>\n",
       "      <td>1.890000</td>\n",
       "      <td>43545.500000</td>\n",
       "      <td>4.000000</td>\n",
       "    </tr>\n",
       "    <tr>\n",
       "      <th>5</th>\n",
       "      <td>Costco</td>\n",
       "      <td>1.730000</td>\n",
       "      <td>70095.000000</td>\n",
       "      <td>12.000000</td>\n",
       "    </tr>\n",
       "    <tr>\n",
       "      <th>6</th>\n",
       "      <td>Double R Grocery</td>\n",
       "      <td>1.790000</td>\n",
       "      <td>37690.000000</td>\n",
       "      <td>4.000000</td>\n",
       "    </tr>\n",
       "    <tr>\n",
       "      <th>7</th>\n",
       "      <td>East 1st Grocery</td>\n",
       "      <td>1.770000</td>\n",
       "      <td>37690.000000</td>\n",
       "      <td>4.000000</td>\n",
       "    </tr>\n",
       "    <tr>\n",
       "      <th>8</th>\n",
       "      <td>Exxon</td>\n",
       "      <td>1.855000</td>\n",
       "      <td>52344.333333</td>\n",
       "      <td>11.500000</td>\n",
       "    </tr>\n",
       "    <tr>\n",
       "      <th>9</th>\n",
       "      <td>Gulf</td>\n",
       "      <td>1.788571</td>\n",
       "      <td>50084.142857</td>\n",
       "      <td>5.714286</td>\n",
       "    </tr>\n",
       "    <tr>\n",
       "      <th>10</th>\n",
       "      <td>HEB Fuel</td>\n",
       "      <td>1.790000</td>\n",
       "      <td>36903.500000</td>\n",
       "      <td>11.000000</td>\n",
       "    </tr>\n",
       "    <tr>\n",
       "      <th>11</th>\n",
       "      <td>Kool Corner</td>\n",
       "      <td>1.790000</td>\n",
       "      <td>42615.000000</td>\n",
       "      <td>4.000000</td>\n",
       "    </tr>\n",
       "    <tr>\n",
       "      <th>12</th>\n",
       "      <td>Lamar Corner Store</td>\n",
       "      <td>1.890000</td>\n",
       "      <td>37396.000000</td>\n",
       "      <td>2.000000</td>\n",
       "    </tr>\n",
       "    <tr>\n",
       "      <th>13</th>\n",
       "      <td>Major Brand Gas</td>\n",
       "      <td>1.790000</td>\n",
       "      <td>60856.000000</td>\n",
       "      <td>4.000000</td>\n",
       "    </tr>\n",
       "    <tr>\n",
       "      <th>14</th>\n",
       "      <td>Mobil</td>\n",
       "      <td>1.865000</td>\n",
       "      <td>47460.500000</td>\n",
       "      <td>12.000000</td>\n",
       "    </tr>\n",
       "    <tr>\n",
       "      <th>15</th>\n",
       "      <td>Phillips 66</td>\n",
       "      <td>1.890000</td>\n",
       "      <td>59796.500000</td>\n",
       "      <td>7.000000</td>\n",
       "    </tr>\n",
       "    <tr>\n",
       "      <th>16</th>\n",
       "      <td>Shell</td>\n",
       "      <td>1.883793</td>\n",
       "      <td>62972.793103</td>\n",
       "      <td>6.482759</td>\n",
       "    </tr>\n",
       "    <tr>\n",
       "      <th>17</th>\n",
       "      <td>Signature Fuels</td>\n",
       "      <td>1.795000</td>\n",
       "      <td>61200.500000</td>\n",
       "      <td>5.000000</td>\n",
       "    </tr>\n",
       "    <tr>\n",
       "      <th>18</th>\n",
       "      <td>Texaco</td>\n",
       "      <td>1.912000</td>\n",
       "      <td>75105.800000</td>\n",
       "      <td>5.600000</td>\n",
       "    </tr>\n",
       "    <tr>\n",
       "      <th>19</th>\n",
       "      <td>Valero</td>\n",
       "      <td>1.891429</td>\n",
       "      <td>49049.000000</td>\n",
       "      <td>6.285714</td>\n",
       "    </tr>\n",
       "  </tbody>\n",
       "</table>\n",
       "</div>"
      ],
      "text/plain": [
       "                       Name  Avg_Price    Avg_Income  Avg_Pumps\n",
       "0                  7-Eleven   1.887778  53432.333333   4.666667\n",
       "1   Around the Corner Store   1.940000  63750.000000   2.000000\n",
       "2                   Chevron   1.871818  61754.636364   8.727273\n",
       "3                     Citgo   1.835000  49387.000000   4.000000\n",
       "4                    Conoco   1.890000  43545.500000   4.000000\n",
       "5                    Costco   1.730000  70095.000000  12.000000\n",
       "6          Double R Grocery   1.790000  37690.000000   4.000000\n",
       "7          East 1st Grocery   1.770000  37690.000000   4.000000\n",
       "8                     Exxon   1.855000  52344.333333  11.500000\n",
       "9                      Gulf   1.788571  50084.142857   5.714286\n",
       "10                 HEB Fuel   1.790000  36903.500000  11.000000\n",
       "11              Kool Corner   1.790000  42615.000000   4.000000\n",
       "12       Lamar Corner Store   1.890000  37396.000000   2.000000\n",
       "13          Major Brand Gas   1.790000  60856.000000   4.000000\n",
       "14                    Mobil   1.865000  47460.500000  12.000000\n",
       "15              Phillips 66   1.890000  59796.500000   7.000000\n",
       "16                    Shell   1.883793  62972.793103   6.482759\n",
       "17          Signature Fuels   1.795000  61200.500000   5.000000\n",
       "18                   Texaco   1.912000  75105.800000   5.600000\n",
       "19                   Valero   1.891429  49049.000000   6.285714"
      ]
     },
     "execution_count": 4,
     "metadata": {},
     "output_type": "execute_result"
    }
   ],
   "source": [
    "grouped_df = gasprices.groupby('Name').agg(\n",
    "     Avg_Price = ('Price', 'mean'),\n",
    "     Avg_Income = ('Income', 'mean'),\n",
    "     Avg_Pumps = ('Pumps', 'mean')\n",
    ").reset_index()\n",
    "\n",
    "grouped_df"
   ]
  },
  {
   "cell_type": "code",
   "execution_count": 5,
   "id": "c0c3aabd-f558-4ae2-9824-23989daf872f",
   "metadata": {},
   "outputs": [
    {
     "data": {
      "image/png": "[encoded data removed]",
      "text/plain": [
       "<Figure size 1000x500 with 3 Axes>"
      ]
     },
     "metadata": {},
     "output_type": "display_data"
    }
   ],
   "source": [
    "fig = plt.figure(figsize = (10,5))\n",
    "axs = fig.subplots(1, 3)\n",
    "\n",
    "data_columns = ['Price', 'Income', 'Pumps']\n",
    "for i, data in enumerate(data_columns):\n",
    "     axs[i].set_title(data)\n",
    "     axs[i].boxplot(gasprices[data], showmeans = True)\n",
    "     axs[i].grid()\n",
    "    \n",
    "plt.tight_layout()\n",
    "plt.show()"
   ]
  },
  {
   "cell_type": "markdown",
   "id": "7652ee18-2864-4cfd-b786-ee5f4f9ea34f",
   "metadata": {},
   "source": [
    "<p>To plot our prediction line between income and price, we can utilize our leanSimpleRegression() and\n",
    "predictSimpleRegression() functions from the previous exercise.</p>"
   ]
  },
  {
   "cell_type": "code",
   "execution_count": 6,
   "id": "58358ad9-4071-405e-ae71-e0da4a64f4cb",
   "metadata": {},
   "outputs": [],
   "source": [
    "def learn_simple_linear_reg(x, y):\n",
    "    x_mean = x.mean()\n",
    "    y_mean = y.mean()\n",
    "\n",
    "    beta_1 = np.sum((x - x_mean) * (y - y_mean)) / np.sum((x - x_mean)**2)\n",
    "    beta_0 = y_mean - beta_1 * x_mean\n",
    "\n",
    "    return beta_0, beta_1\n",
    "\n",
    "def predict_simple_linear_reg(x, beta_0, beta_1):\n",
    "    y_hat = beta_0 + beta_1 * x\n",
    "    return y_hat"
   ]
  },
  {
   "cell_type": "code",
   "execution_count": 7,
   "id": "423caa9d-19f5-4563-be7f-de5acf4d19e6",
   "metadata": {},
   "outputs": [
    {
     "data": {
      "image/png": "[encoded data removed]",
      "text/plain": [
       "<Figure size 1200x600 with 1 Axes>"
      ]
     },
     "metadata": {},
     "output_type": "display_data"
    }
   ],
   "source": [
    "beta_0, beta_1 = learn_simple_linear_reg(gasprices['Income'], gasprices['Price'])\n",
    "y_prediction = predict_simple_linear_reg(gasprices['Income'], beta_0, beta_1)\n",
    "\n",
    "plt.figure(figsize = (12,6))\n",
    "plt.scatter(gasprices['Income'], gasprices['Price'], color = 'blue', label = 'Data Points')\n",
    "plt.plot(gasprices['Income'], y_prediction, color = 'red', label = 'Prediction Line')\n",
    "plt.xlabel('Income')\n",
    "plt.ylabel('Price')\n",
    "plt.legend()\n",
    "plt.show()"
   ]
  },
  {
   "cell_type": "markdown",
   "id": "f0a76b64-c3b3-4f21-b2db-12a1da496ba4",
   "metadata": {},
   "source": [
    "<p>Now we will normalize our data:</p>\n",
    "$$X' = \\frac{X - min(X)}{max(X) - min(X)}$$"
   ]
  },
  {
   "cell_type": "code",
   "execution_count": 8,
   "id": "964317ff-840d-4a64-91ce-e0da10c66d72",
   "metadata": {},
   "outputs": [],
   "source": [
    "def normalize(data):\n",
    "    return (data - np.min(data)) / (np.max(data) - np.min(data))"
   ]
  },
  {
   "cell_type": "code",
   "execution_count": 9,
   "id": "0a1847be-e95d-4b95-ba1b-8558960ca50c",
   "metadata": {},
   "outputs": [
    {
     "data": {
      "image/png": "[encoded data removed]",
      "text/plain": [
       "<Figure size 1200x600 with 1 Axes>"
      ]
     },
     "metadata": {},
     "output_type": "display_data"
    }
   ],
   "source": [
    "beta_0, beta_1 = learn_simple_linear_reg(normalize(gasprices['Income']), gasprices['Price'])\n",
    "y_prediction = predict_simple_linear_reg(normalize(gasprices['Income']), beta_0, beta_1)\n",
    "\n",
    "plt.figure(figsize = (12,6))\n",
    "plt.scatter(normalize(gasprices['Income']), gasprices['Price'], color = 'blue', label = 'Data Points')\n",
    "plt.plot(normalize(gasprices['Income']), y_prediction, color = 'red', label = 'Prediction Line')\n",
    "plt.xlabel('Income')\n",
    "plt.ylabel('Price')\n",
    "plt.legend()\n",
    "plt.show()"
   ]
  },
  {
   "cell_type": "code",
   "execution_count": null,
   "id": "a3cc8dd2-036b-443e-aa22-1f1d27ca40ab",
   "metadata": {},
   "outputs": [],
   "source": []
  }
 ],
 "metadata": {
  "kernelspec": {
   "display_name": "Python 3 (ipykernel)",
   "language": "python",
   "name": "python3"
  },
  "language_info": {
   "codemirror_mode": {
    "name": "ipython",
    "version": 3
   },
   "file_extension": ".py",
   "mimetype": "text/x-python",
   "name": "python",
   "nbconvert_exporter": "python",
   "pygments_lexer": "ipython3",
   "version": "3.13.0"
  }
 },
 "nbformat": 4,
 "nbformat_minor": 5
}
