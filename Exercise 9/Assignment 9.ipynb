{
 "cells": [
  {
   "cell_type": "markdown",
   "id": "273095c9-9866-41ff-96e9-14a91183fbd3",
   "metadata": {},
   "source": [
    "<h2><center>Applied Machine Learning - Assignment 9</center></h2>\n",
    "<h4><center>Lorenzo Cirac Monteagduo</center></h4>"
   ]
  },
  {
   "cell_type": "code",
   "execution_count": 1,
   "id": "a068c81a-bf38-47a1-8f02-d431b73fa616",
   "metadata": {},
   "outputs": [],
   "source": [
    "import pandas as pd"
   ]
  },
  {
   "cell_type": "markdown",
   "id": "91d06cbb-1bb0-413a-8e70-7056ad64d2fb",
   "metadata": {},
   "source": [
    "<h3>Datasets:</h3>\n",
    "<ol>\n",
    "    <li>Sparse dataset in libsvm format:\n",
    "        <ul>\n",
    "            <li>a9a D1</li>\n",
    "        </ul>\n",
    "    </li>\n",
    "    <li>UCI dataset:\n",
    "        <ul>\n",
    "            <li>SMS Spam D2</li>\n",
    "            <li>Spambase D3</li>\n",
    "        </ul>\n",
    "    </li>\n",
    "</ol>"
   ]
  },
  {
   "cell_type": "markdown",
   "id": "79daa07f-6d67-4353-920b-349f0a9afb84",
   "metadata": {},
   "source": [
    "<h3>Question 1 - A Spam Filter Using SVM</h3>\n",
    "<h4>Part A:</h4>\n",
    "<p>Build a spam filter using a pre-processed dataset. A spam filter classifies an email as Ham of Spam, using the content of an email as features. Use dataset D3 for this task. Build a basic spam filter using SVM. Use libsvm, which accepts data in a specfic format: </p>\n",
    "<p>&lt;label&gt; &lt;index1&gt;:&lt;value1&gt; &lt;index2&gt;:&lt;value2&gt; ...</p>\n",
    "<p>Convert dataset D3 into the libsvm format. Follow the README document provided at the libsvm link for guidance. Train the spam classifier on the training part of the dataset and evaluate it on the test dataset. Additionally, optimize the hyperparameter C.</p>\n",
    "<p><strong>Hint</strong>: Choose a diverse range for the hyperparameter, e.g., C = {0.1, 1, 10, 100}, rather than a narrow range (C = {1, 2, 3, 4}). Present results in form of graphs and tables with detailed explanations. Choose a suitable quality criterion (e.g., classification accuracy)</p>\n",
    "<p><strong>Note</strong>: If you are unable to use libsvm, you may use scikit-learn. However, you still need to convert the data to the libsvm format.</p>"
   ]
  },
  {
   "cell_type": "markdown",
   "id": "c75180b5-4397-4b39-9fae-c04fdf1b6e2c",
   "metadata": {},
   "source": [
    "<h4>Part A - Solution:</h4>"
   ]
  },
  {
   "cell_type": "code",
   "execution_count": 2,
   "id": "e4a919c5-73f8-47be-a2f7-711381ad1b8a",
   "metadata": {},
   "outputs": [
    {
     "data": {
      "text/html": [
       "<div>\n",
       "<style scoped>\n",
       "    .dataframe tbody tr th:only-of-type {\n",
       "        vertical-align: middle;\n",
       "    }\n",
       "\n",
       "    .dataframe tbody tr th {\n",
       "        vertical-align: top;\n",
       "    }\n",
       "\n",
       "    .dataframe thead th {\n",
       "        text-align: right;\n",
       "    }\n",
       "</style>\n",
       "<table border=\"1\" class=\"dataframe\">\n",
       "  <thead>\n",
       "    <tr style=\"text-align: right;\">\n",
       "      <th></th>\n",
       "      <th>0</th>\n",
       "      <th>1</th>\n",
       "      <th>2</th>\n",
       "      <th>3</th>\n",
       "      <th>4</th>\n",
       "      <th>5</th>\n",
       "      <th>6</th>\n",
       "      <th>7</th>\n",
       "      <th>8</th>\n",
       "      <th>9</th>\n",
       "      <th>...</th>\n",
       "      <th>48</th>\n",
       "      <th>49</th>\n",
       "      <th>50</th>\n",
       "      <th>51</th>\n",
       "      <th>52</th>\n",
       "      <th>53</th>\n",
       "      <th>54</th>\n",
       "      <th>55</th>\n",
       "      <th>56</th>\n",
       "      <th>57</th>\n",
       "    </tr>\n",
       "  </thead>\n",
       "  <tbody>\n",
       "    <tr>\n",
       "      <th>0</th>\n",
       "      <td>0.00</td>\n",
       "      <td>0.64</td>\n",
       "      <td>0.64</td>\n",
       "      <td>0.0</td>\n",
       "      <td>0.32</td>\n",
       "      <td>0.00</td>\n",
       "      <td>0.00</td>\n",
       "      <td>0.00</td>\n",
       "      <td>0.00</td>\n",
       "      <td>0.00</td>\n",
       "      <td>...</td>\n",
       "      <td>0.000</td>\n",
       "      <td>0.000</td>\n",
       "      <td>0.0</td>\n",
       "      <td>0.778</td>\n",
       "      <td>0.000</td>\n",
       "      <td>0.000</td>\n",
       "      <td>3.756</td>\n",
       "      <td>61</td>\n",
       "      <td>278</td>\n",
       "      <td>1</td>\n",
       "    </tr>\n",
       "    <tr>\n",
       "      <th>1</th>\n",
       "      <td>0.21</td>\n",
       "      <td>0.28</td>\n",
       "      <td>0.50</td>\n",
       "      <td>0.0</td>\n",
       "      <td>0.14</td>\n",
       "      <td>0.28</td>\n",
       "      <td>0.21</td>\n",
       "      <td>0.07</td>\n",
       "      <td>0.00</td>\n",
       "      <td>0.94</td>\n",
       "      <td>...</td>\n",
       "      <td>0.000</td>\n",
       "      <td>0.132</td>\n",
       "      <td>0.0</td>\n",
       "      <td>0.372</td>\n",
       "      <td>0.180</td>\n",
       "      <td>0.048</td>\n",
       "      <td>5.114</td>\n",
       "      <td>101</td>\n",
       "      <td>1028</td>\n",
       "      <td>1</td>\n",
       "    </tr>\n",
       "    <tr>\n",
       "      <th>2</th>\n",
       "      <td>0.06</td>\n",
       "      <td>0.00</td>\n",
       "      <td>0.71</td>\n",
       "      <td>0.0</td>\n",
       "      <td>1.23</td>\n",
       "      <td>0.19</td>\n",
       "      <td>0.19</td>\n",
       "      <td>0.12</td>\n",
       "      <td>0.64</td>\n",
       "      <td>0.25</td>\n",
       "      <td>...</td>\n",
       "      <td>0.010</td>\n",
       "      <td>0.143</td>\n",
       "      <td>0.0</td>\n",
       "      <td>0.276</td>\n",
       "      <td>0.184</td>\n",
       "      <td>0.010</td>\n",
       "      <td>9.821</td>\n",
       "      <td>485</td>\n",
       "      <td>2259</td>\n",
       "      <td>1</td>\n",
       "    </tr>\n",
       "    <tr>\n",
       "      <th>3</th>\n",
       "      <td>0.00</td>\n",
       "      <td>0.00</td>\n",
       "      <td>0.00</td>\n",
       "      <td>0.0</td>\n",
       "      <td>0.63</td>\n",
       "      <td>0.00</td>\n",
       "      <td>0.31</td>\n",
       "      <td>0.63</td>\n",
       "      <td>0.31</td>\n",
       "      <td>0.63</td>\n",
       "      <td>...</td>\n",
       "      <td>0.000</td>\n",
       "      <td>0.137</td>\n",
       "      <td>0.0</td>\n",
       "      <td>0.137</td>\n",
       "      <td>0.000</td>\n",
       "      <td>0.000</td>\n",
       "      <td>3.537</td>\n",
       "      <td>40</td>\n",
       "      <td>191</td>\n",
       "      <td>1</td>\n",
       "    </tr>\n",
       "    <tr>\n",
       "      <th>4</th>\n",
       "      <td>0.00</td>\n",
       "      <td>0.00</td>\n",
       "      <td>0.00</td>\n",
       "      <td>0.0</td>\n",
       "      <td>0.63</td>\n",
       "      <td>0.00</td>\n",
       "      <td>0.31</td>\n",
       "      <td>0.63</td>\n",
       "      <td>0.31</td>\n",
       "      <td>0.63</td>\n",
       "      <td>...</td>\n",
       "      <td>0.000</td>\n",
       "      <td>0.135</td>\n",
       "      <td>0.0</td>\n",
       "      <td>0.135</td>\n",
       "      <td>0.000</td>\n",
       "      <td>0.000</td>\n",
       "      <td>3.537</td>\n",
       "      <td>40</td>\n",
       "      <td>191</td>\n",
       "      <td>1</td>\n",
       "    </tr>\n",
       "    <tr>\n",
       "      <th>...</th>\n",
       "      <td>...</td>\n",
       "      <td>...</td>\n",
       "      <td>...</td>\n",
       "      <td>...</td>\n",
       "      <td>...</td>\n",
       "      <td>...</td>\n",
       "      <td>...</td>\n",
       "      <td>...</td>\n",
       "      <td>...</td>\n",
       "      <td>...</td>\n",
       "      <td>...</td>\n",
       "      <td>...</td>\n",
       "      <td>...</td>\n",
       "      <td>...</td>\n",
       "      <td>...</td>\n",
       "      <td>...</td>\n",
       "      <td>...</td>\n",
       "      <td>...</td>\n",
       "      <td>...</td>\n",
       "      <td>...</td>\n",
       "      <td>...</td>\n",
       "    </tr>\n",
       "    <tr>\n",
       "      <th>4596</th>\n",
       "      <td>0.31</td>\n",
       "      <td>0.00</td>\n",
       "      <td>0.62</td>\n",
       "      <td>0.0</td>\n",
       "      <td>0.00</td>\n",
       "      <td>0.31</td>\n",
       "      <td>0.00</td>\n",
       "      <td>0.00</td>\n",
       "      <td>0.00</td>\n",
       "      <td>0.00</td>\n",
       "      <td>...</td>\n",
       "      <td>0.000</td>\n",
       "      <td>0.232</td>\n",
       "      <td>0.0</td>\n",
       "      <td>0.000</td>\n",
       "      <td>0.000</td>\n",
       "      <td>0.000</td>\n",
       "      <td>1.142</td>\n",
       "      <td>3</td>\n",
       "      <td>88</td>\n",
       "      <td>0</td>\n",
       "    </tr>\n",
       "    <tr>\n",
       "      <th>4597</th>\n",
       "      <td>0.00</td>\n",
       "      <td>0.00</td>\n",
       "      <td>0.00</td>\n",
       "      <td>0.0</td>\n",
       "      <td>0.00</td>\n",
       "      <td>0.00</td>\n",
       "      <td>0.00</td>\n",
       "      <td>0.00</td>\n",
       "      <td>0.00</td>\n",
       "      <td>0.00</td>\n",
       "      <td>...</td>\n",
       "      <td>0.000</td>\n",
       "      <td>0.000</td>\n",
       "      <td>0.0</td>\n",
       "      <td>0.353</td>\n",
       "      <td>0.000</td>\n",
       "      <td>0.000</td>\n",
       "      <td>1.555</td>\n",
       "      <td>4</td>\n",
       "      <td>14</td>\n",
       "      <td>0</td>\n",
       "    </tr>\n",
       "    <tr>\n",
       "      <th>4598</th>\n",
       "      <td>0.30</td>\n",
       "      <td>0.00</td>\n",
       "      <td>0.30</td>\n",
       "      <td>0.0</td>\n",
       "      <td>0.00</td>\n",
       "      <td>0.00</td>\n",
       "      <td>0.00</td>\n",
       "      <td>0.00</td>\n",
       "      <td>0.00</td>\n",
       "      <td>0.00</td>\n",
       "      <td>...</td>\n",
       "      <td>0.102</td>\n",
       "      <td>0.718</td>\n",
       "      <td>0.0</td>\n",
       "      <td>0.000</td>\n",
       "      <td>0.000</td>\n",
       "      <td>0.000</td>\n",
       "      <td>1.404</td>\n",
       "      <td>6</td>\n",
       "      <td>118</td>\n",
       "      <td>0</td>\n",
       "    </tr>\n",
       "    <tr>\n",
       "      <th>4599</th>\n",
       "      <td>0.96</td>\n",
       "      <td>0.00</td>\n",
       "      <td>0.00</td>\n",
       "      <td>0.0</td>\n",
       "      <td>0.32</td>\n",
       "      <td>0.00</td>\n",
       "      <td>0.00</td>\n",
       "      <td>0.00</td>\n",
       "      <td>0.00</td>\n",
       "      <td>0.00</td>\n",
       "      <td>...</td>\n",
       "      <td>0.000</td>\n",
       "      <td>0.057</td>\n",
       "      <td>0.0</td>\n",
       "      <td>0.000</td>\n",
       "      <td>0.000</td>\n",
       "      <td>0.000</td>\n",
       "      <td>1.147</td>\n",
       "      <td>5</td>\n",
       "      <td>78</td>\n",
       "      <td>0</td>\n",
       "    </tr>\n",
       "    <tr>\n",
       "      <th>4600</th>\n",
       "      <td>0.00</td>\n",
       "      <td>0.00</td>\n",
       "      <td>0.65</td>\n",
       "      <td>0.0</td>\n",
       "      <td>0.00</td>\n",
       "      <td>0.00</td>\n",
       "      <td>0.00</td>\n",
       "      <td>0.00</td>\n",
       "      <td>0.00</td>\n",
       "      <td>0.00</td>\n",
       "      <td>...</td>\n",
       "      <td>0.000</td>\n",
       "      <td>0.000</td>\n",
       "      <td>0.0</td>\n",
       "      <td>0.125</td>\n",
       "      <td>0.000</td>\n",
       "      <td>0.000</td>\n",
       "      <td>1.250</td>\n",
       "      <td>5</td>\n",
       "      <td>40</td>\n",
       "      <td>0</td>\n",
       "    </tr>\n",
       "  </tbody>\n",
       "</table>\n",
       "<p>4601 rows × 58 columns</p>\n",
       "</div>"
      ],
      "text/plain": [
       "        0     1     2    3     4     5     6     7     8     9   ...     48  \\\n",
       "0     0.00  0.64  0.64  0.0  0.32  0.00  0.00  0.00  0.00  0.00  ...  0.000   \n",
       "1     0.21  0.28  0.50  0.0  0.14  0.28  0.21  0.07  0.00  0.94  ...  0.000   \n",
       "2     0.06  0.00  0.71  0.0  1.23  0.19  0.19  0.12  0.64  0.25  ...  0.010   \n",
       "3     0.00  0.00  0.00  0.0  0.63  0.00  0.31  0.63  0.31  0.63  ...  0.000   \n",
       "4     0.00  0.00  0.00  0.0  0.63  0.00  0.31  0.63  0.31  0.63  ...  0.000   \n",
       "...    ...   ...   ...  ...   ...   ...   ...   ...   ...   ...  ...    ...   \n",
       "4596  0.31  0.00  0.62  0.0  0.00  0.31  0.00  0.00  0.00  0.00  ...  0.000   \n",
       "4597  0.00  0.00  0.00  0.0  0.00  0.00  0.00  0.00  0.00  0.00  ...  0.000   \n",
       "4598  0.30  0.00  0.30  0.0  0.00  0.00  0.00  0.00  0.00  0.00  ...  0.102   \n",
       "4599  0.96  0.00  0.00  0.0  0.32  0.00  0.00  0.00  0.00  0.00  ...  0.000   \n",
       "4600  0.00  0.00  0.65  0.0  0.00  0.00  0.00  0.00  0.00  0.00  ...  0.000   \n",
       "\n",
       "         49   50     51     52     53     54   55    56  57  \n",
       "0     0.000  0.0  0.778  0.000  0.000  3.756   61   278   1  \n",
       "1     0.132  0.0  0.372  0.180  0.048  5.114  101  1028   1  \n",
       "2     0.143  0.0  0.276  0.184  0.010  9.821  485  2259   1  \n",
       "3     0.137  0.0  0.137  0.000  0.000  3.537   40   191   1  \n",
       "4     0.135  0.0  0.135  0.000  0.000  3.537   40   191   1  \n",
       "...     ...  ...    ...    ...    ...    ...  ...   ...  ..  \n",
       "4596  0.232  0.0  0.000  0.000  0.000  1.142    3    88   0  \n",
       "4597  0.000  0.0  0.353  0.000  0.000  1.555    4    14   0  \n",
       "4598  0.718  0.0  0.000  0.000  0.000  1.404    6   118   0  \n",
       "4599  0.057  0.0  0.000  0.000  0.000  1.147    5    78   0  \n",
       "4600  0.000  0.0  0.125  0.000  0.000  1.250    5    40   0  \n",
       "\n",
       "[4601 rows x 58 columns]"
      ]
     },
     "execution_count": 2,
     "metadata": {},
     "output_type": "execute_result"
    }
   ],
   "source": [
    "D3 = pd.read_csv('res/spambase.data', header = None)\n",
    "D3"
   ]
  },
  {
   "cell_type": "markdown",
   "id": "b512b438-e5bd-4a36-bbb7-358fb491f8d4",
   "metadata": {},
   "source": [
    "<h4>Data Preparation for libsvm</h4>"
   ]
  },
  {
   "cell_type": "markdown",
   "id": "14f72b2b-9598-4cca-af49-dd7381f7586c",
   "metadata": {},
   "source": [
    "<p>LIBSVM uses a specific data format structured as &lt;label&gt; &lt;index1&gt;:&lt;value1&gt; &lt;index2&gt;:&lt;value2&gt; ... . The first value in each row is the class label, which is either 0 or 1 in this case. Following the label are the features, each represented by a pair of values. The first value in the pair is the feature index, which specifies the feature's position, and the second value is the actual value of that feature.\n",
    "\n",
    "Feature indices start at 1 (there is no index 0) and must be listed in ascending order. If a feature index is missing from a row, it is assumed to have a value of 0. This format is advantageous when working with sparse data, as it stores only the non-zero feature values. By excluding unnecessary zeros, this format reduces file size and makes the data easier to interpret.</p>\n",
    "<p>(https://github.com/cjlin1/libsvm/blob/master/python/README & https://stackoverflow.com/questions/44965186/how-to-understand-the-format-type-of-libsvm-of-spark-mllib)</p> \n",
    "<p>Due to various errors encountered while attempting to install libsvm on my computer, I will implement the data transformation method as specified in the task. However, this transformation is not required for my solution using scikit-learn. Therefore, the method I implement will generate a long string instead of outputting a file. This string can be easily converted into the required data file format if necessary.</p>"
   ]
  },
  {
   "cell_type": "code",
   "execution_count": 3,
   "id": "cd1300bf-213e-4eb7-8ebf-a43c1db26a93",
   "metadata": {},
   "outputs": [],
   "source": [
    "def transform_dataframe_to_libsvm_format(df):\n",
    "    libsvm_lines = []\n",
    "    \n",
    "    for _, row in df.iterrows():\n",
    "        label = row.iloc[-1] \n",
    "        features = row.iloc[:-1]  \n",
    "        \n",
    "        libsvm_features = [\n",
    "            f'{i + 1}:{value}' for i, value in enumerate(features) if value != 0\n",
    "        ]\n",
    "        libsvm_line = f'{int(label)} ' + ' '.join(libsvm_features)\n",
    "        libsvm_lines.append(libsvm_line)\n",
    "        \n",
    "    return '\\n'.join(libsvm_lines)"
   ]
  },
  {
   "cell_type": "code",
   "execution_count": 4,
   "id": "bc057641-95fc-477e-ba1c-f938d91ffd53",
   "metadata": {},
   "outputs": [
    {
     "name": "stdout",
     "output_type": "stream",
     "text": [
      "1 2:0.64 3:0.64 5:0.32 12:0.64 16:0.32 18:1.29 19:1.93 21:0.96 52:0.778 55:3.756 56:61.0 57:278.0\n",
      "1 1:0.21 2:0.28 3:0.5 5:0.14 6:0.28 7:0.21 8:0.07 10:0.94 11:0.21 12:0.79 13:0.65 14:0.21 15:0.14 16:0.14 17:0.07 18:0.28 19:3.47 21:1.59 23:0.43 24:0.43 37:0.07 50:0.132 52:0.372 53:0.18 54:0.048 55:5.114 56:101.0 57:1028.0\n",
      "1 1:0.06 3:0.71 5:1.23 6:0.19 7:0.19 8:0.12 9:0.64 10:0.25 11:0.38 12:0.45 13:0.12 15:1.75 16:0.06 17:0.06 18:1.03 19:1.36 20:0.32 21:0.51 23:1.16 24:0.06 40:0.06 43:0.12 45:0.06 46: ...\n"
     ]
    }
   ],
   "source": [
    "transformed_data_for_libsvm = transform_dataframe_to_libsvm_format(D3)\n",
    "\n",
    "# This is what the data would look like:\n",
    "print(transformed_data_for_libsvm[:505] + ' ...')"
   ]
  },
  {
   "cell_type": "markdown",
   "id": "e7938df7-ce76-4e1c-b92f-040b2f12642e",
   "metadata": {},
   "source": [
    "<h4>Training, Testing & Hyperparameter optimization</h4>"
   ]
  },
  {
   "cell_type": "markdown",
   "id": "9c8b20c4-4a97-4130-8319-62ec81d40ac2",
   "metadata": {},
   "source": [
    "<p>As mentioned earlier, I was unable to install libsvm on my machine. Therefore, I will follow the task's instructions and solve it using scikit-learn instead. We use the SVC class, as its implementation is based on libsvm.</p>"
   ]
  },
  {
   "cell_type": "code",
   "execution_count": 5,
   "id": "cca8e5fc-dac1-4c25-a766-76c363d9785a",
   "metadata": {},
   "outputs": [],
   "source": [
    "from sklearn.svm import SVC\n",
    "from sklearn import metrics\n",
    "from sklearn.model_selection import train_test_split"
   ]
  },
  {
   "cell_type": "markdown",
   "id": "47fc0a3d-bc77-4b68-b841-13b883c04ae1",
   "metadata": {},
   "source": [
    "<h4>Training and Testing</h4>"
   ]
  },
  {
   "cell_type": "markdown",
   "id": "bdc2f454-d64e-435b-bb8d-5a1c3f916471",
   "metadata": {},
   "source": [
    "<p>We will use train_test_split from sklearn to divide the dataset into training (80%) and testing (20%) subsets. First, the model is trained on the training data without hyperparameter optimization (using C, representing L2 Regularization) to evaluate its baseline performance on the test set. We measure performance using accuracy_score and classification_report from sklearn. Next, hyperparameter optimization is performed on the training data to identify the best values for training the model. Finally, the optimized model is evaluated on the test set to assess its performance.</p>"
   ]
  },
  {
   "cell_type": "code",
   "execution_count": 6,
   "id": "3e29be04-7771-4579-87b6-c1f847b6546d",
   "metadata": {},
   "outputs": [],
   "source": [
    "X_D3 = D3.iloc[:, :-1]\n",
    "y_D3 = D3.iloc[:, -1]"
   ]
  },
  {
   "cell_type": "code",
   "execution_count": 7,
   "id": "099ab2d2-5086-4854-ac2c-9c57e999330c",
   "metadata": {},
   "outputs": [],
   "source": [
    "X_train_D3, X_test_D3, y_train_D3, y_test_D3 = train_test_split(X_D3, y_D3, test_size = 0.2)"
   ]
  },
  {
   "cell_type": "code",
   "execution_count": 8,
   "id": "a723bde0-dbaa-4c7b-b927-6d5e4ce0b811",
   "metadata": {},
   "outputs": [],
   "source": [
    "def print_results(datatype, y_true, y_prediction):\n",
    "    print('=' * 54)\n",
    "    print(f'Classification Report on {datatype} Dataset:\\n {metrics.classification_report(y_true, y_prediction)}')\n",
    "    print(f'{datatype} Accuracy: {metrics.accuracy_score(y_true, y_prediction)}')\n",
    "    print('=' * 54)"
   ]
  },
  {
   "cell_type": "code",
   "execution_count": 9,
   "id": "41835727-9078-4eca-a51e-bfb3106f432d",
   "metadata": {},
   "outputs": [
    {
     "name": "stdout",
     "output_type": "stream",
     "text": [
      "======================================================\n",
      "Classification Report on Train Dataset:\n",
      "               precision    recall  f1-score   support\n",
      "\n",
      "           0       0.71      0.91      0.80      2239\n",
      "           1       0.75      0.44      0.55      1441\n",
      "\n",
      "    accuracy                           0.72      3680\n",
      "   macro avg       0.73      0.67      0.68      3680\n",
      "weighted avg       0.73      0.72      0.70      3680\n",
      "\n",
      "Train Accuracy: 0.7222826086956522\n",
      "======================================================\n",
      "\n",
      "======================================================\n",
      "Classification Report on Test Dataset:\n",
      "               precision    recall  f1-score   support\n",
      "\n",
      "           0       0.70      0.89      0.79       549\n",
      "           1       0.73      0.44      0.55       372\n",
      "\n",
      "    accuracy                           0.71       921\n",
      "   macro avg       0.72      0.67      0.67       921\n",
      "weighted avg       0.72      0.71      0.69       921\n",
      "\n",
      "Test Accuracy: 0.7100977198697068\n",
      "======================================================\n"
     ]
    }
   ],
   "source": [
    "model = SVC()\n",
    "model.fit(X_train_D3, y_train_D3)\n",
    "\n",
    "y_prediction_train_D3 = model.predict(X_train_D3)\n",
    "y_prediction_test_D3 = model.predict(X_test_D3)\n",
    "\n",
    "print_results('Train', y_train_D3, y_prediction_train_D3)\n",
    "print()\n",
    "print_results('Test', y_test_D3, y_prediction_test_D3)"
   ]
  },
  {
   "cell_type": "markdown",
   "id": "2a2f8475-7593-4153-9ea5-69d8acf5ec89",
   "metadata": {},
   "source": [
    "<p>\n",
    "Based on the results, the base model (without additional parameters) does not perform well. Therefore, we will proceed with hyperparameter optimization.</p>"
   ]
  },
  {
   "cell_type": "markdown",
   "id": "c39d1c1f-fed3-46f5-aa44-afd0a2bcac49",
   "metadata": {},
   "source": [
    "<h4>Hyperparameter Optimization</h4>"
   ]
  },
  {
   "cell_type": "code",
   "execution_count": 10,
   "id": "9aedaa3c-46ab-482c-8e86-d9ca9982c96c",
   "metadata": {},
   "outputs": [],
   "source": [
    "import matplotlib.pyplot as plt\n",
    "from sklearn.model_selection import cross_val_score\n",
    "from sklearn.model_selection import GridSearchCV"
   ]
  },
  {
   "cell_type": "markdown",
   "id": "563f956e-418a-42a6-aa51-aa1988707fbe",
   "metadata": {},
   "source": [
    "<p>As specified in the task, we will experiment with a diverse range of values for the parameter C.</p>"
   ]
  },
  {
   "cell_type": "code",
   "execution_count": 11,
   "id": "253cb27a-9483-4990-8227-5e9ea4d1aa20",
   "metadata": {},
   "outputs": [
    {
     "name": "stdout",
     "output_type": "stream",
     "text": [
      "Best Parameters: {'C': 10000}\n"
     ]
    }
   ],
   "source": [
    "param_grid = {'C': [0.1, 1, 10, 100, 1000, 10000]}\n",
    "grid_search = GridSearchCV(SVC(), param_grid, cv = 5, scoring = 'accuracy')\n",
    "grid_search.fit(X_train_D3, y_train_D3)\n",
    "results = grid_search.cv_results_\n",
    "\n",
    "print('Best Parameters:', grid_search.best_params_)"
   ]
  },
  {
   "cell_type": "code",
   "execution_count": 12,
   "id": "1263d3fa-680a-45dc-bba7-10e94193e10a",
   "metadata": {},
   "outputs": [
    {
     "name": "stdout",
     "output_type": "stream",
     "text": [
      "======================================================\n",
      "Classification Report on Train Dataset:\n",
      "               precision    recall  f1-score   support\n",
      "\n",
      "           0       0.94      0.95      0.95      2239\n",
      "           1       0.93      0.91      0.92      1441\n",
      "\n",
      "    accuracy                           0.94      3680\n",
      "   macro avg       0.93      0.93      0.93      3680\n",
      "weighted avg       0.94      0.94      0.94      3680\n",
      "\n",
      "Train Accuracy: 0.9364130434782608\n",
      "======================================================\n",
      "\n",
      "======================================================\n",
      "Classification Report on Test Dataset:\n",
      "               precision    recall  f1-score   support\n",
      "\n",
      "           0       0.94      0.95      0.94       549\n",
      "           1       0.92      0.90      0.91       372\n",
      "\n",
      "    accuracy                           0.93       921\n",
      "   macro avg       0.93      0.93      0.93       921\n",
      "weighted avg       0.93      0.93      0.93       921\n",
      "\n",
      "Test Accuracy: 0.9294245385450597\n",
      "======================================================\n"
     ]
    }
   ],
   "source": [
    "y_prediction_train_D3 = grid_search.predict(X_train_D3)\n",
    "y_prediction_test_D3 = grid_search.predict(X_test_D3)\n",
    "\n",
    "print_results('Train', y_train_D3, y_prediction_train_D3)\n",
    "print()\n",
    "print_results('Test', y_test_D3, y_prediction_test_D3)"
   ]
  },
  {
   "cell_type": "markdown",
   "id": "66ee4b55-2536-4eb6-b467-39e94da435c5",
   "metadata": {},
   "source": [
    "<p>Now that we have selected C=10,000, both accuracy and precision have significantly improved. Let's plot the accuracy for different values of C:</p>"
   ]
  },
  {
   "cell_type": "code",
   "execution_count": 13,
   "id": "6240d879-c25b-4fcf-a05c-1dab9ca815e5",
   "metadata": {},
   "outputs": [
    {
     "data": {
      "image/png": "[encoded data removed]",
      "text/plain": [
       "<Figure size 1000x600 with 1 Axes>"
      ]
     },
     "metadata": {},
     "output_type": "display_data"
    }
   ],
   "source": [
    "results_df = pd.DataFrame({\n",
    "    'C': results['param_C'],  \n",
    "    'Mean Test Score': results['mean_test_score']\n",
    "})\n",
    "\n",
    "plt.figure(figsize = (10,6))\n",
    "plt.plot(results_df['C'], results_df['Mean Test Score'], marker = 'o')\n",
    "plt.xlabel('C (Regularization Parameter)')\n",
    "plt.ylabel('Mean Test Score (Accuracy)')\n",
    "plt.title('Effect of C on Model Accuracy (Cross-Validation)')\n",
    "plt.xscale('log')\n",
    "plt.grid(True)\n",
    "plt.show()"
   ]
  },
  {
   "cell_type": "markdown",
   "id": "7431a0c4-c150-4ebf-bec8-9135de3b4dca",
   "metadata": {},
   "source": [
    "<p>To better understand the graph, we should have a look at the documentation for the parameter C: <em>\"Regularization parameter. The strength of the regularization is inversely proportional to C. Must be strictly positive. The penalty is a squared L2 penalty.\"</em> (https://scikit-learn.org/stable/modules/generated/sklearn.svm.SVC.html)</p>\n",
    "<p>As C increases, the model places greater emphasis on minimizing training errors, reducing the regularization strength and allowing more complex decision boundaries. This improves accuracy on the training set and potentially the validation set when the model is under-regularized. However, overly large C values may lead to overfitting, capturing noise in the data and reducing generalization performance.</p>"
   ]
  },
  {
   "cell_type": "markdown",
   "id": "176c372f-6bf1-4003-8673-152a0d8fb4e4",
   "metadata": {},
   "source": [
    "<h4>Part B:</h4>\n",
    "<p>Pre-process dataset D2, which consists of labels (Ham or Spam) and SMS text content. Transform the text data into features using methods like TFIDF or Count Vectorization from\n",
    "scikit-learn. Avoid using OneHotEncoding, as it may not be suitable. Remove stop words\n",
    "(e.g., “this,” “the,” “is,” etc.) for better results.\n",
    "After preprocessing, use scikit-learn’s SVM implementation to train and evaluate the\n",
    "model. Experiment with different hyperparameters and kernels (linear and RBF). Perform 5-fold\n",
    "cross-validation and present results as plots and tables. You may use sklearn.pipeline.Pipeline\n",
    "to streamline the workflow.</p>"
   ]
  },
  {
   "cell_type": "markdown",
   "id": "5615f533-d00a-4753-93bd-aa7c16119ba9",
   "metadata": {},
   "source": [
    "<h4>Part B - Solution</h4>"
   ]
  },
  {
   "cell_type": "code",
   "execution_count": 14,
   "id": "a20c3597-1a1e-4b9c-a9d5-56fddb5c05f2",
   "metadata": {},
   "outputs": [],
   "source": [
    "from sklearn.feature_extraction.text import TfidfVectorizer\n",
    "from sklearn.pipeline import Pipeline"
   ]
  },
  {
   "cell_type": "markdown",
   "id": "231236d6-11f9-4bba-9949-c9926fd4ce9b",
   "metadata": {},
   "source": [
    "<p>Since the data is formatted with the type (ham or spam) followed by the message, we will use pandas to read the data into a DataFrame, storing the type and the message in separate columns.</p>"
   ]
  },
  {
   "cell_type": "code",
   "execution_count": 15,
   "id": "09460d5b-69d3-4b65-a9b5-ba229b328e56",
   "metadata": {},
   "outputs": [
    {
     "data": {
      "text/html": [
       "<div>\n",
       "<style scoped>\n",
       "    .dataframe tbody tr th:only-of-type {\n",
       "        vertical-align: middle;\n",
       "    }\n",
       "\n",
       "    .dataframe tbody tr th {\n",
       "        vertical-align: top;\n",
       "    }\n",
       "\n",
       "    .dataframe thead th {\n",
       "        text-align: right;\n",
       "    }\n",
       "</style>\n",
       "<table border=\"1\" class=\"dataframe\">\n",
       "  <thead>\n",
       "    <tr style=\"text-align: right;\">\n",
       "      <th></th>\n",
       "      <th>type</th>\n",
       "      <th>message</th>\n",
       "    </tr>\n",
       "  </thead>\n",
       "  <tbody>\n",
       "    <tr>\n",
       "      <th>0</th>\n",
       "      <td>ham</td>\n",
       "      <td>Go until jurong point, crazy.. Available only ...</td>\n",
       "    </tr>\n",
       "    <tr>\n",
       "      <th>1</th>\n",
       "      <td>ham</td>\n",
       "      <td>Ok lar... Joking wif u oni...</td>\n",
       "    </tr>\n",
       "    <tr>\n",
       "      <th>2</th>\n",
       "      <td>spam</td>\n",
       "      <td>Free entry in 2 a wkly comp to win FA Cup fina...</td>\n",
       "    </tr>\n",
       "    <tr>\n",
       "      <th>3</th>\n",
       "      <td>ham</td>\n",
       "      <td>U dun say so early hor... U c already then say...</td>\n",
       "    </tr>\n",
       "    <tr>\n",
       "      <th>4</th>\n",
       "      <td>ham</td>\n",
       "      <td>Nah I don't think he goes to usf, he lives aro...</td>\n",
       "    </tr>\n",
       "    <tr>\n",
       "      <th>...</th>\n",
       "      <td>...</td>\n",
       "      <td>...</td>\n",
       "    </tr>\n",
       "    <tr>\n",
       "      <th>5567</th>\n",
       "      <td>spam</td>\n",
       "      <td>This is the 2nd time we have tried 2 contact u...</td>\n",
       "    </tr>\n",
       "    <tr>\n",
       "      <th>5568</th>\n",
       "      <td>ham</td>\n",
       "      <td>Will ü b going to esplanade fr home?</td>\n",
       "    </tr>\n",
       "    <tr>\n",
       "      <th>5569</th>\n",
       "      <td>ham</td>\n",
       "      <td>Pity, * was in mood for that. So...any other s...</td>\n",
       "    </tr>\n",
       "    <tr>\n",
       "      <th>5570</th>\n",
       "      <td>ham</td>\n",
       "      <td>The guy did some bitching but I acted like i'd...</td>\n",
       "    </tr>\n",
       "    <tr>\n",
       "      <th>5571</th>\n",
       "      <td>ham</td>\n",
       "      <td>Rofl. Its true to its name</td>\n",
       "    </tr>\n",
       "  </tbody>\n",
       "</table>\n",
       "<p>5572 rows × 2 columns</p>\n",
       "</div>"
      ],
      "text/plain": [
       "      type                                            message\n",
       "0      ham  Go until jurong point, crazy.. Available only ...\n",
       "1      ham                      Ok lar... Joking wif u oni...\n",
       "2     spam  Free entry in 2 a wkly comp to win FA Cup fina...\n",
       "3      ham  U dun say so early hor... U c already then say...\n",
       "4      ham  Nah I don't think he goes to usf, he lives aro...\n",
       "...    ...                                                ...\n",
       "5567  spam  This is the 2nd time we have tried 2 contact u...\n",
       "5568   ham               Will ü b going to esplanade fr home?\n",
       "5569   ham  Pity, * was in mood for that. So...any other s...\n",
       "5570   ham  The guy did some bitching but I acted like i'd...\n",
       "5571   ham                         Rofl. Its true to its name\n",
       "\n",
       "[5572 rows x 2 columns]"
      ]
     },
     "execution_count": 15,
     "metadata": {},
     "output_type": "execute_result"
    }
   ],
   "source": [
    "D2 = pd.read_csv('res/SMSSpamCollection', sep = '\\t', header = None, names = ['type', 'message'])\n",
    "D2"
   ]
  },
  {
   "cell_type": "markdown",
   "id": "ab8c207e-2372-45e6-9f0e-aaeda5a419bf",
   "metadata": {},
   "source": [
    "<p>Next, we will convert the values in the \"type\" column (ham and spam) to boolean values (0 for ham and 1 for spam).</p>"
   ]
  },
  {
   "cell_type": "code",
   "execution_count": 16,
   "id": "751a018d-b245-488b-a3ed-853dc2a2131a",
   "metadata": {},
   "outputs": [],
   "source": [
    "X_D2 = D2['message']\n",
    "y_D2 =  D2['type'].map({'ham': 0, 'spam': 1})"
   ]
  },
  {
   "cell_type": "code",
   "execution_count": 17,
   "id": "be4bb9ff-7b9e-4deb-b967-c582c47c56e4",
   "metadata": {},
   "outputs": [],
   "source": [
    "X_train_D2, X_test_D2, y_train_D2, y_test_D2 = train_test_split(X_D2, y_D2, test_size = 0.2)"
   ]
  },
  {
   "cell_type": "markdown",
   "id": "5c173bc4-93c2-42c1-93c4-288ffb795f6b",
   "metadata": {},
   "source": [
    "<p>To convert the data from text into features for our model, we will use TfidfVectorizer, which offers two key advantages:</p>\n",
    "<ol>\n",
    "    <li>It transforms a collection of raw documents into a matrix of TF-IDF features, combining the functionality of CountVectorizer and TfidfTransformer.</li>\n",
    "    <li>It allows us to automatically remove stop words by setting the stop_words parameter to \"english\".</li>\n",
    "</ol>\n",
    "<p>https://scikit-learn.org/stable/modules/generated/sklearn.feature_extraction.text.TfidfVectorizer.html</p>\n",
    "<p>We will use a Pipeline to streamline the workflow by combining data preprocessing and model training into a single object, ensuring that all steps are applied in sequence and consistently. After that we will perform the hyperparameter optimization.</p>"
   ]
  },
  {
   "cell_type": "code",
   "execution_count": 18,
   "id": "e2f029e5-1ffd-4cf2-91c8-29ce232e6860",
   "metadata": {},
   "outputs": [
    {
     "name": "stdout",
     "output_type": "stream",
     "text": [
      "Best Params: {'svm__C': 10, 'svm__gamma': 1, 'svm__kernel': 'rbf'}\n"
     ]
    }
   ],
   "source": [
    "pipeline = Pipeline([\n",
    "    ('tfidf', TfidfVectorizer(stop_words = 'english', max_features = 1000)),\n",
    "    ('svm', SVC())\n",
    "])\n",
    "\n",
    "param_grid = {\n",
    "    'svm__kernel': ['linear', 'rbf'],\n",
    "    'svm__C': [0.1, 1, 10, 100],\n",
    "    'svm__gamma': ['scale', 0.1, 1]\n",
    "}\n",
    "\n",
    "grid_search = GridSearchCV(pipeline, param_grid, cv = 5, scoring = 'accuracy')\n",
    "grid_search.fit(X_train_D2, y_train_D2)\n",
    "best_model = grid_search.best_estimator_\n",
    "\n",
    "print(f'Best Params: {grid_search.best_params_}')"
   ]
  },
  {
   "cell_type": "code",
   "execution_count": 19,
   "id": "93f0c25a-76c4-4eb7-9b7a-d40b596a99b9",
   "metadata": {},
   "outputs": [
    {
     "name": "stdout",
     "output_type": "stream",
     "text": [
      "======================================================\n",
      "Classification Report on Train Dataset:\n",
      "               precision    recall  f1-score   support\n",
      "\n",
      "           0       1.00      1.00      1.00      3852\n",
      "           1       1.00      1.00      1.00       605\n",
      "\n",
      "    accuracy                           1.00      4457\n",
      "   macro avg       1.00      1.00      1.00      4457\n",
      "weighted avg       1.00      1.00      1.00      4457\n",
      "\n",
      "Train Accuracy: 0.9993269015032533\n",
      "======================================================\n",
      "\n",
      "======================================================\n",
      "Classification Report on Test Dataset:\n",
      "               precision    recall  f1-score   support\n",
      "\n",
      "           0       0.98      1.00      0.99       973\n",
      "           1       0.99      0.83      0.90       142\n",
      "\n",
      "    accuracy                           0.98      1115\n",
      "   macro avg       0.98      0.91      0.95      1115\n",
      "weighted avg       0.98      0.98      0.98      1115\n",
      "\n",
      "Test Accuracy: 0.9775784753363229\n",
      "======================================================\n"
     ]
    }
   ],
   "source": [
    "y_prediction_train_D2 = best_model.predict(X_train_D2)\n",
    "y_prediction_test_D2 = best_model.predict(X_test_D2)\n",
    "\n",
    "print_results('Train', y_train_D2, y_prediction_train_D2)\n",
    "print()\n",
    "print_results('Test', y_test_D2, y_prediction_test_D2)"
   ]
  },
  {
   "cell_type": "markdown",
   "id": "a4ee2ea5-0aab-4b20-9e94-3f663bf21d38",
   "metadata": {},
   "source": [
    "<h3>Question 2 - Comparison with Another Model</h3>\n",
    "<p>Compare the SVM-based spam filter results from one of the tasks above with another model (e.g., decision trees or logistic regression). Optimize the hyperparameters and perform 5-fold cross-validation. Compare the results and accuracy, and summarize your findings in a conclusion.</p>"
   ]
  },
  {
   "cell_type": "code",
   "execution_count": 20,
   "id": "bf5a67f8-651d-47d9-8a0c-62b560817e5d",
   "metadata": {},
   "outputs": [],
   "source": [
    "from sklearn.linear_model import LogisticRegression"
   ]
  },
  {
   "cell_type": "code",
   "execution_count": 21,
   "id": "fe2ccb3b-1463-42d5-b21b-c7b73c0959da",
   "metadata": {},
   "outputs": [
    {
     "name": "stdout",
     "output_type": "stream",
     "text": [
      "Best Params: {'logreg__C': 100, 'logreg__penalty': 'l2'}\n"
     ]
    }
   ],
   "source": [
    "pipeline = Pipeline([\n",
    "    ('tfidf', TfidfVectorizer(stop_words = 'english', max_features = 1000)),\n",
    "    ('logreg', LogisticRegression()) \n",
    "])\n",
    "\n",
    "param_grid = {\n",
    "    'logreg__C': [0.1, 1, 10, 100], \n",
    "    'logreg__penalty': ['l2']\n",
    "}\n",
    "\n",
    "grid_search = GridSearchCV(pipeline, param_grid, cv = 5, scoring = 'accuracy')\n",
    "grid_search.fit(X_train_D2, y_train_D2)\n",
    "best_model = grid_search.best_estimator_\n",
    "\n",
    "print(f'Best Params: {grid_search.best_params_}')"
   ]
  },
  {
   "cell_type": "code",
   "execution_count": 22,
   "id": "848701eb-d211-4e90-810c-93ec002496bf",
   "metadata": {},
   "outputs": [
    {
     "name": "stdout",
     "output_type": "stream",
     "text": [
      "======================================================\n",
      "Classification Report on Train Dataset:\n",
      "               precision    recall  f1-score   support\n",
      "\n",
      "           0       1.00      1.00      1.00      3852\n",
      "           1       1.00      0.99      1.00       605\n",
      "\n",
      "    accuracy                           1.00      4457\n",
      "   macro avg       1.00      1.00      1.00      4457\n",
      "weighted avg       1.00      1.00      1.00      4457\n",
      "\n",
      "Train Accuracy: 0.9986538030065066\n",
      "======================================================\n",
      "\n",
      "======================================================\n",
      "Classification Report on Test Dataset:\n",
      "               precision    recall  f1-score   support\n",
      "\n",
      "           0       0.98      1.00      0.99       973\n",
      "           1       0.98      0.85      0.91       142\n",
      "\n",
      "    accuracy                           0.98      1115\n",
      "   macro avg       0.98      0.92      0.95      1115\n",
      "weighted avg       0.98      0.98      0.98      1115\n",
      "\n",
      "Test Accuracy: 0.9775784753363229\n",
      "======================================================\n"
     ]
    }
   ],
   "source": [
    "y_prediction_train_D2 = best_model.predict(X_train_D2)\n",
    "y_prediction_test_D2 = best_model.predict(X_test_D2)\n",
    "\n",
    "print_results('Train', y_train_D2, y_prediction_train_D2)\n",
    "print()\n",
    "print_results('Test', y_test_D2, y_prediction_test_D2)"
   ]
  },
  {
   "cell_type": "markdown",
   "id": "f1da3f6f-7d2f-4fba-8d70-280173bbc867",
   "metadata": {},
   "source": [
    "<h3>Comparison between SVC and LogisticRegression Model</h3>\n",
    "<p>During my testing, I found that both models perform exceptionally well, with near-perfect metrics on both training and test datasets. However, hyperparameter tuning for SVC takes longer compared to Logistic Regression. This is primarily due to the different kernels used in SVC; for instance, the linear kernel requires more computational time during the tuning process.</p>"
   ]
  }
 ],
 "metadata": {
  "kernelspec": {
   "display_name": "Python 3 (ipykernel)",
   "language": "python",
   "name": "python3"
  },
  "language_info": {
   "codemirror_mode": {
    "name": "ipython",
    "version": 3
   },
   "file_extension": ".py",
   "mimetype": "text/x-python",
   "name": "python",
   "nbconvert_exporter": "python",
   "pygments_lexer": "ipython3",
   "version": "3.13.0"
  }
 },
 "nbformat": 4,
 "nbformat_minor": 5
}
